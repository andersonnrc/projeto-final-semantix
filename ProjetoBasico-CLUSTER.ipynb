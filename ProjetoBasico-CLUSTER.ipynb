{
 "cells": [
  {
   "cell_type": "markdown",
   "metadata": {},
   "source": [
    "## Jupyter notebook para processamento no container jupyter-spark"
   ]
  },
  {
   "cell_type": "code",
   "execution_count": 1,
   "metadata": {},
   "outputs": [],
   "source": [
    "# Ler arquivos CSV do HDFS\n",
    "\n",
    "read_files = spark.read.csv(\"hdfs://namenode:8020/user/anderson/data/covid/bases\", sep=\";\", header=\"true\")"
   ]
  },
  {
   "cell_type": "code",
   "execution_count": 2,
   "metadata": {},
   "outputs": [
    {
     "name": "stdout",
     "output_type": "stream",
     "text": [
      "root\n",
      " |-- regiao: string (nullable = true)\n",
      " |-- estado: string (nullable = true)\n",
      " |-- municipio: string (nullable = true)\n",
      " |-- coduf: string (nullable = true)\n",
      " |-- codmun: string (nullable = true)\n",
      " |-- codRegiaoSaude: string (nullable = true)\n",
      " |-- nomeRegiaoSaude: string (nullable = true)\n",
      " |-- data: string (nullable = true)\n",
      " |-- semanaEpi: string (nullable = true)\n",
      " |-- populacaoTCU2019: string (nullable = true)\n",
      " |-- casosAcumulado: string (nullable = true)\n",
      " |-- casosNovos: string (nullable = true)\n",
      " |-- obitosAcumulado: string (nullable = true)\n",
      " |-- obitosNovos: string (nullable = true)\n",
      " |-- Recuperadosnovos: string (nullable = true)\n",
      " |-- emAcompanhamentoNovos: string (nullable = true)\n",
      " |-- interior/metropolitana: string (nullable = true)\n",
      "\n"
     ]
    }
   ],
   "source": [
    "# Verificar schema\n",
    "\n",
    "read_files.printSchema()"
   ]
  },
  {
   "cell_type": "code",
   "execution_count": 3,
   "metadata": {},
   "outputs": [],
   "source": [
    "# Definir schema alterando o tipo dos valores numéricos de String para Integer\n",
    "\n",
    "from pyspark.sql.types import StructType, StructField, StringType, IntegerType\n",
    "\n",
    "covid_schema = (StructType([\n",
    "      StructField(\"regiao\", StringType()),\n",
    "      StructField(\"estado\", StringType()),\n",
    "      StructField(\"municipio\", StringType()),\n",
    "      StructField(\"coduf\", StringType()),\n",
    "      StructField(\"codmun\", StringType()),\n",
    "      StructField(\"codRegiaoSaude\", StringType()),\n",
    "      StructField(\"nomeRegiaoSaude\", StringType()),\n",
    "      StructField(\"data\", StringType()),\n",
    "      StructField(\"semanaEpi\", StringType()),\n",
    "      StructField(\"populacaoTCU2019\", IntegerType()),\n",
    "      StructField(\"casosAcumulado\", IntegerType()),\n",
    "      StructField(\"casosNovos\", IntegerType()),\n",
    "      StructField(\"obitosAcumulado\", IntegerType()),\n",
    "      StructField(\"obitosNovos\", IntegerType()),\n",
    "      StructField(\"Recuperadosnovos\", IntegerType()),\n",
    "      StructField(\"emAcompanhamentoNovos\", IntegerType()),\n",
    "      StructField(\"interior/metropolitana\", StringType()),\n",
    "    ]))\n",
    "\n",
    "\n",
    "leitura_arquivos = spark.read.schema(covid_schema).csv('/user/anderson/data/covid/bases/', sep=\";\", header=\"true\")"
   ]
  },
  {
   "cell_type": "code",
   "execution_count": 4,
   "metadata": {},
   "outputs": [
    {
     "name": "stdout",
     "output_type": "stream",
     "text": [
      "root\n",
      " |-- regiao: string (nullable = true)\n",
      " |-- estado: string (nullable = true)\n",
      " |-- municipio: string (nullable = true)\n",
      " |-- coduf: string (nullable = true)\n",
      " |-- codmun: string (nullable = true)\n",
      " |-- codRegiaoSaude: string (nullable = true)\n",
      " |-- nomeRegiaoSaude: string (nullable = true)\n",
      " |-- data: string (nullable = true)\n",
      " |-- semanaEpi: string (nullable = true)\n",
      " |-- populacaoTCU2019: integer (nullable = true)\n",
      " |-- casosAcumulado: integer (nullable = true)\n",
      " |-- casosNovos: integer (nullable = true)\n",
      " |-- obitosAcumulado: integer (nullable = true)\n",
      " |-- obitosNovos: integer (nullable = true)\n",
      " |-- Recuperadosnovos: integer (nullable = true)\n",
      " |-- emAcompanhamentoNovos: integer (nullable = true)\n",
      " |-- interior/metropolitana: string (nullable = true)\n",
      "\n"
     ]
    }
   ],
   "source": [
    "# Ler esquema\n",
    "\n",
    "leitura_arquivos.printSchema()"
   ]
  },
  {
   "cell_type": "code",
   "execution_count": 6,
   "metadata": {},
   "outputs": [
    {
     "data": {
      "text/plain": [
       "2624943"
      ]
     },
     "execution_count": 6,
     "metadata": {},
     "output_type": "execute_result"
    }
   ],
   "source": [
    "# 2. Otimizar todos os dados do hdfs para uma tabela Hive particionada por município.\n",
    "\n",
    "leitura_arquivos.write.partitionBy(\"municipio\").saveAsTable('tb_covid')\n",
    "\n",
    "dados_covid = spark.read.table(\"tb_covid\")\n",
    "\n",
    "dados_covid.count()"
   ]
  },
  {
   "cell_type": "code",
   "execution_count": 8,
   "metadata": {},
   "outputs": [
    {
     "name": "stdout",
     "output_type": "stream",
     "text": [
      "root\n",
      " |-- regiao: string (nullable = true)\n",
      " |-- estado: string (nullable = true)\n",
      " |-- coduf: string (nullable = true)\n",
      " |-- codmun: string (nullable = true)\n",
      " |-- codRegiaoSaude: string (nullable = true)\n",
      " |-- nomeRegiaoSaude: string (nullable = true)\n",
      " |-- data: string (nullable = true)\n",
      " |-- semanaEpi: string (nullable = true)\n",
      " |-- populacaoTCU2019: integer (nullable = true)\n",
      " |-- casosAcumulado: integer (nullable = true)\n",
      " |-- casosNovos: integer (nullable = true)\n",
      " |-- obitosAcumulado: integer (nullable = true)\n",
      " |-- obitosNovos: integer (nullable = true)\n",
      " |-- Recuperadosnovos: integer (nullable = true)\n",
      " |-- emAcompanhamentoNovos: integer (nullable = true)\n",
      " |-- interior/metropolitana: string (nullable = true)\n",
      " |-- municipio: string (nullable = true)\n",
      "\n"
     ]
    }
   ],
   "source": [
    "spark.read.table(\"tb_covid\").printSchema()"
   ]
  },
  {
   "cell_type": "code",
   "execution_count": 9,
   "metadata": {},
   "outputs": [],
   "source": [
    "from pyspark.sql.functions import *\n",
    "from pyspark.sql.types import *"
   ]
  },
  {
   "cell_type": "code",
   "execution_count": 10,
   "metadata": {},
   "outputs": [],
   "source": [
    "table = spark.read.table(\"tb_covid\")"
   ]
  },
  {
   "cell_type": "code",
   "execution_count": 11,
   "metadata": {},
   "outputs": [],
   "source": [
    "# 3. Criar as 3 vizualizações pelo Spark com os dados enviados para o HDFS:"
   ]
  },
  {
   "cell_type": "code",
   "execution_count": 12,
   "metadata": {},
   "outputs": [],
   "source": [
    "visualizacao_1 = table.groupBy(\"regiao\",\"data\") \\\n",
    "        .agg(sum(\"Recuperadosnovos\").alias(\"Casos_Recuperados\"), \\\n",
    "             sum(\"emAcompanhamentoNovos\").alias(\"Casos_Em_Acompanhamento\") \\\n",
    "            ).sort(desc(\"data\"))"
   ]
  },
  {
   "cell_type": "code",
   "execution_count": 13,
   "metadata": {},
   "outputs": [
    {
     "data": {
      "text/plain": [
       "DataFrame[regiao: string, data: string, Casos_Recuperados: bigint, Casos_Em_Acompanhamento: bigint]"
      ]
     },
     "execution_count": 13,
     "metadata": {},
     "output_type": "execute_result"
    }
   ],
   "source": [
    "visualizacao_1"
   ]
  },
  {
   "cell_type": "code",
   "execution_count": 14,
   "metadata": {},
   "outputs": [
    {
     "name": "stdout",
     "output_type": "stream",
     "text": [
      "+------------+----------+-----------------+-----------------------+\n",
      "|      regiao|      data|Casos_Recuperados|Casos_Em_Acompanhamento|\n",
      "+------------+----------+-----------------+-----------------------+\n",
      "|Centro-Oeste|2021-07-06|             null|                   null|\n",
      "|       Norte|2021-07-06|             null|                   null|\n",
      "|     Sudeste|2021-07-06|             null|                   null|\n",
      "|    Nordeste|2021-07-06|             null|                   null|\n",
      "|         Sul|2021-07-06|             null|                   null|\n",
      "|      Brasil|2021-07-06|         17262646|                1065477|\n",
      "+------------+----------+-----------------+-----------------------+\n",
      "only showing top 6 rows\n",
      "\n"
     ]
    }
   ],
   "source": [
    "visualizacao_1.show(6)"
   ]
  },
  {
   "cell_type": "code",
   "execution_count": 15,
   "metadata": {},
   "outputs": [],
   "source": [
    "visualizacao_2 = table.groupBy(\"regiao\",\"data\")\\\n",
    "        .agg(sum(\"casosAcumulado\").alias(\"Casos_Acumulados\"),\\\n",
    "             sum(\"casosNovos\").alias(\"Casos_Novos\"),\\\n",
    "             sum(\"populacaoTCU2019\").alias(\"Populacao\")\n",
    "            ).sort(desc(\"data\"))"
   ]
  },
  {
   "cell_type": "code",
   "execution_count": 16,
   "metadata": {},
   "outputs": [
    {
     "name": "stdout",
     "output_type": "stream",
     "text": [
      "+------------+----------+----------------+-----------+---------+\n",
      "|      regiao|      data|Casos_Acumulados|Casos_Novos|Populacao|\n",
      "+------------+----------+----------------+-----------+---------+\n",
      "|    Nordeste|2021-07-06|         8911474|      23290|114143308|\n",
      "|       Norte|2021-07-06|         3465630|       5244| 36861960|\n",
      "|     Sudeste|2021-07-06|        14277606|      62182|176742866|\n",
      "|         Sul|2021-07-06|         7222082|      22800| 59951968|\n",
      "|Centro-Oeste|2021-07-06|         3833238|      11492| 32594148|\n",
      "|      Brasil|2021-07-06|        18855015|      62504|210147125|\n",
      "+------------+----------+----------------+-----------+---------+\n",
      "only showing top 6 rows\n",
      "\n"
     ]
    }
   ],
   "source": [
    "visualizacao_2.show(6)"
   ]
  },
  {
   "cell_type": "code",
   "execution_count": 17,
   "metadata": {},
   "outputs": [
    {
     "data": {
      "text/plain": [
       "['regiao', 'data', 'Casos_Acumulados', 'Casos_Novos', 'Populacao']"
      ]
     },
     "execution_count": 17,
     "metadata": {},
     "output_type": "execute_result"
    }
   ],
   "source": [
    "visualizacao_2.columns"
   ]
  },
  {
   "cell_type": "code",
   "execution_count": 18,
   "metadata": {},
   "outputs": [],
   "source": [
    "visualizacao_2 = visualizacao_2.withColumn(\"Incidencia\",100000*col('Casos_Acumulados')/col('Populacao'))"
   ]
  },
  {
   "cell_type": "code",
   "execution_count": 20,
   "metadata": {},
   "outputs": [],
   "source": [
    "visualizacao_2 = visualizacao_2.drop(\"Populacao\")"
   ]
  },
  {
   "cell_type": "code",
   "execution_count": 21,
   "metadata": {},
   "outputs": [
    {
     "name": "stdout",
     "output_type": "stream",
     "text": [
      "+------------+----------+----------------+-----------+------------------+\n",
      "|      regiao|      data|Casos_Acumulados|Casos_Novos|        Incidencia|\n",
      "+------------+----------+----------------+-----------+------------------+\n",
      "|       Norte|2021-07-06|         3465630|       5244| 9401.643320105604|\n",
      "|Centro-Oeste|2021-07-06|         3833238|      11492|11760.509892757436|\n",
      "|    Nordeste|2021-07-06|         8911474|      23290| 7807.268035371815|\n",
      "|         Sul|2021-07-06|         7222082|      22800|12046.446915637533|\n",
      "|     Sudeste|2021-07-06|        14277606|      62182| 8078.179517582339|\n",
      "|      Brasil|2021-07-06|        18855015|      62504| 8972.292625940041|\n",
      "+------------+----------+----------------+-----------+------------------+\n",
      "only showing top 6 rows\n",
      "\n"
     ]
    }
   ],
   "source": [
    "visualizacao_2.show(6)"
   ]
  },
  {
   "cell_type": "code",
   "execution_count": 22,
   "metadata": {},
   "outputs": [],
   "source": [
    "visualizacao_3 = table.groupBy(\"regiao\",\"data\") \\\n",
    "        .agg(sum(\"casosAcumulado\").alias(\"Casos_Acumulados\"), \\\n",
    "             sum(\"obitosAcumulado\").alias(\"Obitos_Acumulados\"), \\\n",
    "             sum(\"obitosNovos\").alias(\"Obitos_Novos\"),\\\n",
    "             sum(\"populacaoTCU2019\").alias(\"Populacao\")\n",
    "            ).sort(desc(\"data\"))"
   ]
  },
  {
   "cell_type": "code",
   "execution_count": 23,
   "metadata": {},
   "outputs": [
    {
     "name": "stdout",
     "output_type": "stream",
     "text": [
      "+------------+----------+----------------+-----------------+------------+---------+\n",
      "|      regiao|      data|Casos_Acumulados|Obitos_Acumulados|Obitos_Novos|Populacao|\n",
      "+------------+----------+----------------+-----------------+------------+---------+\n",
      "|Centro-Oeste|2021-07-06|         3833238|            98414|         302| 32594148|\n",
      "|       Norte|2021-07-06|         3465630|            87690|         138| 36861960|\n",
      "|     Sudeste|2021-07-06|        14277606|           490622|        1842|176742866|\n",
      "|    Nordeste|2021-07-06|         8911474|           215648|         576|114143308|\n",
      "|         Sul|2021-07-06|         7222082|           161410|         702| 59951968|\n",
      "|      Brasil|2021-07-06|        18855015|           526892|        1780|210147125|\n",
      "+------------+----------+----------------+-----------------+------------+---------+\n",
      "only showing top 6 rows\n",
      "\n"
     ]
    }
   ],
   "source": [
    "visualizacao_3.show(6)"
   ]
  },
  {
   "cell_type": "code",
   "execution_count": 24,
   "metadata": {},
   "outputs": [],
   "source": [
    "visualizacao_3 = visualizacao_3.withColumn(\"Letalidade\", format_number(100*col('Obitos_Acumulados')/col('Casos_Acumulados'),2))\n",
    "visualizacao_3 = visualizacao_3.withColumn(\"Mortalidade\", format_number(100000*col('Obitos_Acumulados')/col('populacao'),2))"
   ]
  },
  {
   "cell_type": "code",
   "execution_count": 27,
   "metadata": {},
   "outputs": [],
   "source": [
    "visualizacao_3 = visualizacao_3.drop(\"Populacao\")\n",
    "visualizacao_3 = visualizacao_3.drop(\"Casos_Acumulados\")"
   ]
  },
  {
   "cell_type": "code",
   "execution_count": 28,
   "metadata": {},
   "outputs": [
    {
     "name": "stdout",
     "output_type": "stream",
     "text": [
      "+------------+----------+-----------------+------------+----------+-----------+\n",
      "|      regiao|      data|Obitos_Acumulados|Obitos_Novos|Letalidade|Mortalidade|\n",
      "+------------+----------+-----------------+------------+----------+-----------+\n",
      "|Centro-Oeste|2021-07-06|            98414|         302|      2.57|     301.94|\n",
      "|       Norte|2021-07-06|            87690|         138|      2.53|     237.89|\n",
      "|     Sudeste|2021-07-06|           490622|        1842|      3.44|     277.59|\n",
      "|         Sul|2021-07-06|           161410|         702|      2.23|     269.23|\n",
      "|    Nordeste|2021-07-06|           215648|         576|      2.42|     188.93|\n",
      "|      Brasil|2021-07-06|           526892|        1780|      2.79|     250.73|\n",
      "+------------+----------+-----------------+------------+----------+-----------+\n",
      "only showing top 6 rows\n",
      "\n"
     ]
    }
   ],
   "source": [
    "visualizacao_3.show(6)"
   ]
  },
  {
   "cell_type": "code",
   "execution_count": 31,
   "metadata": {},
   "outputs": [],
   "source": [
    "# 4. Salvar a primeira visualização como tabela Hive\n",
    "\n",
    "visualizacao_1.write.saveAsTable('tb_casos_recuperados')"
   ]
  },
  {
   "cell_type": "code",
   "execution_count": 32,
   "metadata": {},
   "outputs": [
    {
     "name": "stdout",
     "output_type": "stream",
     "text": [
      "Found 3 items\r\n",
      "drwxr-xr-x   - root supergroup          0 2021-10-20 17:01 /user/hive/warehouse/juros\r\n",
      "drwxr-xr-x   - root supergroup          0 2021-11-10 00:46 /user/hive/warehouse/tb_casos_recuperados\r\n",
      "drwxr-xr-x   - root supergroup          0 2021-11-10 00:01 /user/hive/warehouse/tb_covid\r\n"
     ]
    }
   ],
   "source": [
    "!hdfs dfs -ls /user/hive/warehouse"
   ]
  },
  {
   "cell_type": "code",
   "execution_count": 33,
   "metadata": {},
   "outputs": [],
   "source": [
    "# 5. Salvar a segunda visualização com formato parquet e compressão snappy\n",
    "\n",
    "visualizacao_2.write.saveAsTable(\"tb_casos_confirmados\", compression='snappy')"
   ]
  },
  {
   "cell_type": "code",
   "execution_count": 34,
   "metadata": {},
   "outputs": [
    {
     "name": "stdout",
     "output_type": "stream",
     "text": [
      "Found 201 items\n",
      "-rw-r--r--   2 root supergroup          0 2021-11-10 00:47 /user/hive/warehouse/tb_casos_confirmados/_SUCCESS\n",
      "-rw-r--r--   2 root supergroup       1869 2021-11-10 00:47 /user/hive/warehouse/tb_casos_confirmados/part-00000-223d388a-c652-46c4-8f9f-6c5e3cca5cae-c000.snappy.parquet\n",
      "-rw-r--r--   2 root supergroup       1745 2021-11-10 00:47 /user/hive/warehouse/tb_casos_confirmados/part-00001-223d388a-c652-46c4-8f9f-6c5e3cca5cae-c000.snappy.parquet\n",
      "-rw-r--r--   2 root supergroup       1868 2021-11-10 00:47 /user/hive/warehouse/tb_casos_confirmados/part-00002-223d388a-c652-46c4-8f9f-6c5e3cca5cae-c000.snappy.parquet\n",
      "-rw-r--r--   2 root supergroup       1737 2021-11-10 00:47 /user/hive/warehouse/tb_casos_confirmados/part-00003-223d388a-c652-46c4-8f9f-6c5e3cca5cae-c000.snappy.parquet\n",
      "-rw-r--r--   2 root supergroup       1876 2021-11-10 00:47 /user/hive/warehouse/tb_casos_confirmados/part-00004-223d388a-c652-46c4-8f9f-6c5e3cca5cae-c000.snappy.parquet\n",
      "-rw-r--r--   2 root supergroup       1741 2021-11-10 00:47 /user/hive/warehouse/tb_casos_confirmados/part-00005-223d388a-c652-46c4-8f9f-6c5e3cca5cae-c000.snappy.parquet\n",
      "-rw-r--r--   2 root supergroup       1871 2021-11-10 00:47 /user/hive/warehouse/tb_casos_confirmados/part-00006-223d388a-c652-46c4-8f9f-6c5e3cca5cae-c000.snappy.parquet\n",
      "-rw-r--r--   2 root supergroup       1745 2021-11-10 00:47 /user/hive/warehouse/tb_casos_confirmados/part-00007-223d388a-c652-46c4-8f9f-6c5e3cca5cae-c000.snappy.parquet\n",
      "-rw-r--r--   2 root supergroup       1875 2021-11-10 00:47 /user/hive/warehouse/tb_casos_confirmados/part-00008-223d388a-c652-46c4-8f9f-6c5e3cca5cae-c000.snappy.parquet\n",
      "-rw-r--r--   2 root supergroup       1746 2021-11-10 00:47 /user/hive/warehouse/tb_casos_confirmados/part-00009-223d388a-c652-46c4-8f9f-6c5e3cca5cae-c000.snappy.parquet\n",
      "-rw-r--r--   2 root supergroup       1874 2021-11-10 00:47 /user/hive/warehouse/tb_casos_confirmados/part-00010-223d388a-c652-46c4-8f9f-6c5e3cca5cae-c000.snappy.parquet\n",
      "-rw-r--r--   2 root supergroup       1744 2021-11-10 00:47 /user/hive/warehouse/tb_casos_confirmados/part-00011-223d388a-c652-46c4-8f9f-6c5e3cca5cae-c000.snappy.parquet\n",
      "-rw-r--r--   2 root supergroup       1873 2021-11-10 00:47 /user/hive/warehouse/tb_casos_confirmados/part-00012-223d388a-c652-46c4-8f9f-6c5e3cca5cae-c000.snappy.parquet\n",
      "-rw-r--r--   2 root supergroup       1750 2021-11-10 00:47 /user/hive/warehouse/tb_casos_confirmados/part-00013-223d388a-c652-46c4-8f9f-6c5e3cca5cae-c000.snappy.parquet\n",
      "-rw-r--r--   2 root supergroup       1868 2021-11-10 00:47 /user/hive/warehouse/tb_casos_confirmados/part-00014-223d388a-c652-46c4-8f9f-6c5e3cca5cae-c000.snappy.parquet\n",
      "-rw-r--r--   2 root supergroup       1745 2021-11-10 00:47 /user/hive/warehouse/tb_casos_confirmados/part-00015-223d388a-c652-46c4-8f9f-6c5e3cca5cae-c000.snappy.parquet\n",
      "-rw-r--r--   2 root supergroup       1868 2021-11-10 00:47 /user/hive/warehouse/tb_casos_confirmados/part-00016-223d388a-c652-46c4-8f9f-6c5e3cca5cae-c000.snappy.parquet\n",
      "-rw-r--r--   2 root supergroup       1746 2021-11-10 00:47 /user/hive/warehouse/tb_casos_confirmados/part-00017-223d388a-c652-46c4-8f9f-6c5e3cca5cae-c000.snappy.parquet\n",
      "-rw-r--r--   2 root supergroup       1874 2021-11-10 00:47 /user/hive/warehouse/tb_casos_confirmados/part-00018-223d388a-c652-46c4-8f9f-6c5e3cca5cae-c000.snappy.parquet\n",
      "-rw-r--r--   2 root supergroup       1750 2021-11-10 00:47 /user/hive/warehouse/tb_casos_confirmados/part-00019-223d388a-c652-46c4-8f9f-6c5e3cca5cae-c000.snappy.parquet\n",
      "-rw-r--r--   2 root supergroup       1867 2021-11-10 00:47 /user/hive/warehouse/tb_casos_confirmados/part-00020-223d388a-c652-46c4-8f9f-6c5e3cca5cae-c000.snappy.parquet\n",
      "-rw-r--r--   2 root supergroup       1747 2021-11-10 00:47 /user/hive/warehouse/tb_casos_confirmados/part-00021-223d388a-c652-46c4-8f9f-6c5e3cca5cae-c000.snappy.parquet\n",
      "-rw-r--r--   2 root supergroup       1872 2021-11-10 00:47 /user/hive/warehouse/tb_casos_confirmados/part-00022-223d388a-c652-46c4-8f9f-6c5e3cca5cae-c000.snappy.parquet\n",
      "-rw-r--r--   2 root supergroup       1736 2021-11-10 00:47 /user/hive/warehouse/tb_casos_confirmados/part-00023-223d388a-c652-46c4-8f9f-6c5e3cca5cae-c000.snappy.parquet\n",
      "-rw-r--r--   2 root supergroup       1873 2021-11-10 00:47 /user/hive/warehouse/tb_casos_confirmados/part-00024-223d388a-c652-46c4-8f9f-6c5e3cca5cae-c000.snappy.parquet\n",
      "-rw-r--r--   2 root supergroup       1742 2021-11-10 00:47 /user/hive/warehouse/tb_casos_confirmados/part-00025-223d388a-c652-46c4-8f9f-6c5e3cca5cae-c000.snappy.parquet\n",
      "-rw-r--r--   2 root supergroup       1872 2021-11-10 00:47 /user/hive/warehouse/tb_casos_confirmados/part-00026-223d388a-c652-46c4-8f9f-6c5e3cca5cae-c000.snappy.parquet\n",
      "-rw-r--r--   2 root supergroup       1741 2021-11-10 00:47 /user/hive/warehouse/tb_casos_confirmados/part-00027-223d388a-c652-46c4-8f9f-6c5e3cca5cae-c000.snappy.parquet\n",
      "-rw-r--r--   2 root supergroup       1863 2021-11-10 00:47 /user/hive/warehouse/tb_casos_confirmados/part-00028-223d388a-c652-46c4-8f9f-6c5e3cca5cae-c000.snappy.parquet\n",
      "-rw-r--r--   2 root supergroup       1737 2021-11-10 00:47 /user/hive/warehouse/tb_casos_confirmados/part-00029-223d388a-c652-46c4-8f9f-6c5e3cca5cae-c000.snappy.parquet\n",
      "-rw-r--r--   2 root supergroup       1875 2021-11-10 00:47 /user/hive/warehouse/tb_casos_confirmados/part-00030-223d388a-c652-46c4-8f9f-6c5e3cca5cae-c000.snappy.parquet\n",
      "-rw-r--r--   2 root supergroup       1743 2021-11-10 00:47 /user/hive/warehouse/tb_casos_confirmados/part-00031-223d388a-c652-46c4-8f9f-6c5e3cca5cae-c000.snappy.parquet\n",
      "-rw-r--r--   2 root supergroup       1874 2021-11-10 00:47 /user/hive/warehouse/tb_casos_confirmados/part-00032-223d388a-c652-46c4-8f9f-6c5e3cca5cae-c000.snappy.parquet\n",
      "-rw-r--r--   2 root supergroup       1745 2021-11-10 00:47 /user/hive/warehouse/tb_casos_confirmados/part-00033-223d388a-c652-46c4-8f9f-6c5e3cca5cae-c000.snappy.parquet\n",
      "-rw-r--r--   2 root supergroup       1863 2021-11-10 00:47 /user/hive/warehouse/tb_casos_confirmados/part-00034-223d388a-c652-46c4-8f9f-6c5e3cca5cae-c000.snappy.parquet\n",
      "-rw-r--r--   2 root supergroup       1744 2021-11-10 00:47 /user/hive/warehouse/tb_casos_confirmados/part-00035-223d388a-c652-46c4-8f9f-6c5e3cca5cae-c000.snappy.parquet\n",
      "-rw-r--r--   2 root supergroup       1870 2021-11-10 00:47 /user/hive/warehouse/tb_casos_confirmados/part-00036-223d388a-c652-46c4-8f9f-6c5e3cca5cae-c000.snappy.parquet\n",
      "-rw-r--r--   2 root supergroup       1744 2021-11-10 00:47 /user/hive/warehouse/tb_casos_confirmados/part-00037-223d388a-c652-46c4-8f9f-6c5e3cca5cae-c000.snappy.parquet\n",
      "-rw-r--r--   2 root supergroup       1865 2021-11-10 00:47 /user/hive/warehouse/tb_casos_confirmados/part-00038-223d388a-c652-46c4-8f9f-6c5e3cca5cae-c000.snappy.parquet\n",
      "-rw-r--r--   2 root supergroup       1745 2021-11-10 00:47 /user/hive/warehouse/tb_casos_confirmados/part-00039-223d388a-c652-46c4-8f9f-6c5e3cca5cae-c000.snappy.parquet\n",
      "-rw-r--r--   2 root supergroup       1866 2021-11-10 00:47 /user/hive/warehouse/tb_casos_confirmados/part-00040-223d388a-c652-46c4-8f9f-6c5e3cca5cae-c000.snappy.parquet\n",
      "-rw-r--r--   2 root supergroup       1744 2021-11-10 00:47 /user/hive/warehouse/tb_casos_confirmados/part-00041-223d388a-c652-46c4-8f9f-6c5e3cca5cae-c000.snappy.parquet\n",
      "-rw-r--r--   2 root supergroup       1871 2021-11-10 00:47 /user/hive/warehouse/tb_casos_confirmados/part-00042-223d388a-c652-46c4-8f9f-6c5e3cca5cae-c000.snappy.parquet\n",
      "-rw-r--r--   2 root supergroup       1752 2021-11-10 00:47 /user/hive/warehouse/tb_casos_confirmados/part-00043-223d388a-c652-46c4-8f9f-6c5e3cca5cae-c000.snappy.parquet\n",
      "-rw-r--r--   2 root supergroup       1877 2021-11-10 00:47 /user/hive/warehouse/tb_casos_confirmados/part-00044-223d388a-c652-46c4-8f9f-6c5e3cca5cae-c000.snappy.parquet\n",
      "-rw-r--r--   2 root supergroup       1736 2021-11-10 00:47 /user/hive/warehouse/tb_casos_confirmados/part-00045-223d388a-c652-46c4-8f9f-6c5e3cca5cae-c000.snappy.parquet\n",
      "-rw-r--r--   2 root supergroup       1866 2021-11-10 00:47 /user/hive/warehouse/tb_casos_confirmados/part-00046-223d388a-c652-46c4-8f9f-6c5e3cca5cae-c000.snappy.parquet\n",
      "-rw-r--r--   2 root supergroup       1744 2021-11-10 00:47 /user/hive/warehouse/tb_casos_confirmados/part-00047-223d388a-c652-46c4-8f9f-6c5e3cca5cae-c000.snappy.parquet\n",
      "-rw-r--r--   2 root supergroup       1870 2021-11-10 00:47 /user/hive/warehouse/tb_casos_confirmados/part-00048-223d388a-c652-46c4-8f9f-6c5e3cca5cae-c000.snappy.parquet\n",
      "-rw-r--r--   2 root supergroup       1746 2021-11-10 00:47 /user/hive/warehouse/tb_casos_confirmados/part-00049-223d388a-c652-46c4-8f9f-6c5e3cca5cae-c000.snappy.parquet\n",
      "-rw-r--r--   2 root supergroup       1869 2021-11-10 00:47 /user/hive/warehouse/tb_casos_confirmados/part-00050-223d388a-c652-46c4-8f9f-6c5e3cca5cae-c000.snappy.parquet\n",
      "-rw-r--r--   2 root supergroup       1736 2021-11-10 00:47 /user/hive/warehouse/tb_casos_confirmados/part-00051-223d388a-c652-46c4-8f9f-6c5e3cca5cae-c000.snappy.parquet\n",
      "-rw-r--r--   2 root supergroup       1869 2021-11-10 00:47 /user/hive/warehouse/tb_casos_confirmados/part-00052-223d388a-c652-46c4-8f9f-6c5e3cca5cae-c000.snappy.parquet\n",
      "-rw-r--r--   2 root supergroup       1738 2021-11-10 00:47 /user/hive/warehouse/tb_casos_confirmados/part-00053-223d388a-c652-46c4-8f9f-6c5e3cca5cae-c000.snappy.parquet\n",
      "-rw-r--r--   2 root supergroup       1744 2021-11-10 00:47 /user/hive/warehouse/tb_casos_confirmados/part-00054-223d388a-c652-46c4-8f9f-6c5e3cca5cae-c000.snappy.parquet\n",
      "-rw-r--r--   2 root supergroup       1862 2021-11-10 00:47 /user/hive/warehouse/tb_casos_confirmados/part-00055-223d388a-c652-46c4-8f9f-6c5e3cca5cae-c000.snappy.parquet\n",
      "-rw-r--r--   2 root supergroup       1748 2021-11-10 00:47 /user/hive/warehouse/tb_casos_confirmados/part-00056-223d388a-c652-46c4-8f9f-6c5e3cca5cae-c000.snappy.parquet\n",
      "-rw-r--r--   2 root supergroup       1865 2021-11-10 00:47 /user/hive/warehouse/tb_casos_confirmados/part-00057-223d388a-c652-46c4-8f9f-6c5e3cca5cae-c000.snappy.parquet\n",
      "-rw-r--r--   2 root supergroup       1742 2021-11-10 00:47 /user/hive/warehouse/tb_casos_confirmados/part-00058-223d388a-c652-46c4-8f9f-6c5e3cca5cae-c000.snappy.parquet\n",
      "-rw-r--r--   2 root supergroup       1866 2021-11-10 00:47 /user/hive/warehouse/tb_casos_confirmados/part-00059-223d388a-c652-46c4-8f9f-6c5e3cca5cae-c000.snappy.parquet\n",
      "-rw-r--r--   2 root supergroup       1743 2021-11-10 00:47 /user/hive/warehouse/tb_casos_confirmados/part-00060-223d388a-c652-46c4-8f9f-6c5e3cca5cae-c000.snappy.parquet\n",
      "-rw-r--r--   2 root supergroup       1867 2021-11-10 00:47 /user/hive/warehouse/tb_casos_confirmados/part-00061-223d388a-c652-46c4-8f9f-6c5e3cca5cae-c000.snappy.parquet\n",
      "-rw-r--r--   2 root supergroup       1736 2021-11-10 00:47 /user/hive/warehouse/tb_casos_confirmados/part-00062-223d388a-c652-46c4-8f9f-6c5e3cca5cae-c000.snappy.parquet\n",
      "-rw-r--r--   2 root supergroup       1870 2021-11-10 00:47 /user/hive/warehouse/tb_casos_confirmados/part-00063-223d388a-c652-46c4-8f9f-6c5e3cca5cae-c000.snappy.parquet\n",
      "-rw-r--r--   2 root supergroup       1741 2021-11-10 00:47 /user/hive/warehouse/tb_casos_confirmados/part-00064-223d388a-c652-46c4-8f9f-6c5e3cca5cae-c000.snappy.parquet\n",
      "-rw-r--r--   2 root supergroup       1865 2021-11-10 00:47 /user/hive/warehouse/tb_casos_confirmados/part-00065-223d388a-c652-46c4-8f9f-6c5e3cca5cae-c000.snappy.parquet\n",
      "-rw-r--r--   2 root supergroup       1742 2021-11-10 00:47 /user/hive/warehouse/tb_casos_confirmados/part-00066-223d388a-c652-46c4-8f9f-6c5e3cca5cae-c000.snappy.parquet\n",
      "-rw-r--r--   2 root supergroup       1868 2021-11-10 00:47 /user/hive/warehouse/tb_casos_confirmados/part-00067-223d388a-c652-46c4-8f9f-6c5e3cca5cae-c000.snappy.parquet\n",
      "-rw-r--r--   2 root supergroup       1739 2021-11-10 00:47 /user/hive/warehouse/tb_casos_confirmados/part-00068-223d388a-c652-46c4-8f9f-6c5e3cca5cae-c000.snappy.parquet\n",
      "-rw-r--r--   2 root supergroup       1869 2021-11-10 00:47 /user/hive/warehouse/tb_casos_confirmados/part-00069-223d388a-c652-46c4-8f9f-6c5e3cca5cae-c000.snappy.parquet\n",
      "-rw-r--r--   2 root supergroup       1743 2021-11-10 00:47 /user/hive/warehouse/tb_casos_confirmados/part-00070-223d388a-c652-46c4-8f9f-6c5e3cca5cae-c000.snappy.parquet\n",
      "-rw-r--r--   2 root supergroup       1862 2021-11-10 00:47 /user/hive/warehouse/tb_casos_confirmados/part-00071-223d388a-c652-46c4-8f9f-6c5e3cca5cae-c000.snappy.parquet\n",
      "-rw-r--r--   2 root supergroup       1741 2021-11-10 00:47 /user/hive/warehouse/tb_casos_confirmados/part-00072-223d388a-c652-46c4-8f9f-6c5e3cca5cae-c000.snappy.parquet\n",
      "-rw-r--r--   2 root supergroup       1875 2021-11-10 00:47 /user/hive/warehouse/tb_casos_confirmados/part-00073-223d388a-c652-46c4-8f9f-6c5e3cca5cae-c000.snappy.parquet\n",
      "-rw-r--r--   2 root supergroup       1741 2021-11-10 00:47 /user/hive/warehouse/tb_casos_confirmados/part-00074-223d388a-c652-46c4-8f9f-6c5e3cca5cae-c000.snappy.parquet\n",
      "-rw-r--r--   2 root supergroup       1869 2021-11-10 00:47 /user/hive/warehouse/tb_casos_confirmados/part-00075-223d388a-c652-46c4-8f9f-6c5e3cca5cae-c000.snappy.parquet\n",
      "-rw-r--r--   2 root supergroup       1736 2021-11-10 00:47 /user/hive/warehouse/tb_casos_confirmados/part-00076-223d388a-c652-46c4-8f9f-6c5e3cca5cae-c000.snappy.parquet\n",
      "-rw-r--r--   2 root supergroup       1861 2021-11-10 00:47 /user/hive/warehouse/tb_casos_confirmados/part-00077-223d388a-c652-46c4-8f9f-6c5e3cca5cae-c000.snappy.parquet\n",
      "-rw-r--r--   2 root supergroup       1736 2021-11-10 00:47 /user/hive/warehouse/tb_casos_confirmados/part-00078-223d388a-c652-46c4-8f9f-6c5e3cca5cae-c000.snappy.parquet\n",
      "-rw-r--r--   2 root supergroup       1858 2021-11-10 00:47 /user/hive/warehouse/tb_casos_confirmados/part-00079-223d388a-c652-46c4-8f9f-6c5e3cca5cae-c000.snappy.parquet\n",
      "-rw-r--r--   2 root supergroup       1739 2021-11-10 00:47 /user/hive/warehouse/tb_casos_confirmados/part-00080-223d388a-c652-46c4-8f9f-6c5e3cca5cae-c000.snappy.parquet\n",
      "-rw-r--r--   2 root supergroup       1864 2021-11-10 00:47 /user/hive/warehouse/tb_casos_confirmados/part-00081-223d388a-c652-46c4-8f9f-6c5e3cca5cae-c000.snappy.parquet\n",
      "-rw-r--r--   2 root supergroup       1738 2021-11-10 00:47 /user/hive/warehouse/tb_casos_confirmados/part-00082-223d388a-c652-46c4-8f9f-6c5e3cca5cae-c000.snappy.parquet\n",
      "-rw-r--r--   2 root supergroup       1861 2021-11-10 00:47 /user/hive/warehouse/tb_casos_confirmados/part-00083-223d388a-c652-46c4-8f9f-6c5e3cca5cae-c000.snappy.parquet\n",
      "-rw-r--r--   2 root supergroup       1737 2021-11-10 00:47 /user/hive/warehouse/tb_casos_confirmados/part-00084-223d388a-c652-46c4-8f9f-6c5e3cca5cae-c000.snappy.parquet\n",
      "-rw-r--r--   2 root supergroup       1865 2021-11-10 00:47 /user/hive/warehouse/tb_casos_confirmados/part-00085-223d388a-c652-46c4-8f9f-6c5e3cca5cae-c000.snappy.parquet\n",
      "-rw-r--r--   2 root supergroup       1742 2021-11-10 00:47 /user/hive/warehouse/tb_casos_confirmados/part-00086-223d388a-c652-46c4-8f9f-6c5e3cca5cae-c000.snappy.parquet\n",
      "-rw-r--r--   2 root supergroup       1860 2021-11-10 00:47 /user/hive/warehouse/tb_casos_confirmados/part-00087-223d388a-c652-46c4-8f9f-6c5e3cca5cae-c000.snappy.parquet\n",
      "-rw-r--r--   2 root supergroup       1739 2021-11-10 00:47 /user/hive/warehouse/tb_casos_confirmados/part-00088-223d388a-c652-46c4-8f9f-6c5e3cca5cae-c000.snappy.parquet\n",
      "-rw-r--r--   2 root supergroup       1866 2021-11-10 00:47 /user/hive/warehouse/tb_casos_confirmados/part-00089-223d388a-c652-46c4-8f9f-6c5e3cca5cae-c000.snappy.parquet\n",
      "-rw-r--r--   2 root supergroup       1737 2021-11-10 00:47 /user/hive/warehouse/tb_casos_confirmados/part-00090-223d388a-c652-46c4-8f9f-6c5e3cca5cae-c000.snappy.parquet\n",
      "-rw-r--r--   2 root supergroup       1867 2021-11-10 00:47 /user/hive/warehouse/tb_casos_confirmados/part-00091-223d388a-c652-46c4-8f9f-6c5e3cca5cae-c000.snappy.parquet\n",
      "-rw-r--r--   2 root supergroup       1738 2021-11-10 00:47 /user/hive/warehouse/tb_casos_confirmados/part-00092-223d388a-c652-46c4-8f9f-6c5e3cca5cae-c000.snappy.parquet\n",
      "-rw-r--r--   2 root supergroup       1863 2021-11-10 00:47 /user/hive/warehouse/tb_casos_confirmados/part-00093-223d388a-c652-46c4-8f9f-6c5e3cca5cae-c000.snappy.parquet\n",
      "-rw-r--r--   2 root supergroup       1739 2021-11-10 00:47 /user/hive/warehouse/tb_casos_confirmados/part-00094-223d388a-c652-46c4-8f9f-6c5e3cca5cae-c000.snappy.parquet\n",
      "-rw-r--r--   2 root supergroup       1863 2021-11-10 00:47 /user/hive/warehouse/tb_casos_confirmados/part-00095-223d388a-c652-46c4-8f9f-6c5e3cca5cae-c000.snappy.parquet\n",
      "-rw-r--r--   2 root supergroup       1741 2021-11-10 00:47 /user/hive/warehouse/tb_casos_confirmados/part-00096-223d388a-c652-46c4-8f9f-6c5e3cca5cae-c000.snappy.parquet\n",
      "-rw-r--r--   2 root supergroup       1856 2021-11-10 00:47 /user/hive/warehouse/tb_casos_confirmados/part-00097-223d388a-c652-46c4-8f9f-6c5e3cca5cae-c000.snappy.parquet\n",
      "-rw-r--r--   2 root supergroup       1739 2021-11-10 00:47 /user/hive/warehouse/tb_casos_confirmados/part-00098-223d388a-c652-46c4-8f9f-6c5e3cca5cae-c000.snappy.parquet\n",
      "-rw-r--r--   2 root supergroup       1853 2021-11-10 00:47 /user/hive/warehouse/tb_casos_confirmados/part-00099-223d388a-c652-46c4-8f9f-6c5e3cca5cae-c000.snappy.parquet\n",
      "-rw-r--r--   2 root supergroup       1735 2021-11-10 00:47 /user/hive/warehouse/tb_casos_confirmados/part-00100-223d388a-c652-46c4-8f9f-6c5e3cca5cae-c000.snappy.parquet\n",
      "-rw-r--r--   2 root supergroup       1866 2021-11-10 00:47 /user/hive/warehouse/tb_casos_confirmados/part-00101-223d388a-c652-46c4-8f9f-6c5e3cca5cae-c000.snappy.parquet\n",
      "-rw-r--r--   2 root supergroup       1732 2021-11-10 00:47 /user/hive/warehouse/tb_casos_confirmados/part-00102-223d388a-c652-46c4-8f9f-6c5e3cca5cae-c000.snappy.parquet\n",
      "-rw-r--r--   2 root supergroup       1860 2021-11-10 00:47 /user/hive/warehouse/tb_casos_confirmados/part-00103-223d388a-c652-46c4-8f9f-6c5e3cca5cae-c000.snappy.parquet\n",
      "-rw-r--r--   2 root supergroup       1738 2021-11-10 00:47 /user/hive/warehouse/tb_casos_confirmados/part-00104-223d388a-c652-46c4-8f9f-6c5e3cca5cae-c000.snappy.parquet\n",
      "-rw-r--r--   2 root supergroup       1862 2021-11-10 00:47 /user/hive/warehouse/tb_casos_confirmados/part-00105-223d388a-c652-46c4-8f9f-6c5e3cca5cae-c000.snappy.parquet\n",
      "-rw-r--r--   2 root supergroup       1735 2021-11-10 00:47 /user/hive/warehouse/tb_casos_confirmados/part-00106-223d388a-c652-46c4-8f9f-6c5e3cca5cae-c000.snappy.parquet\n",
      "-rw-r--r--   2 root supergroup       1859 2021-11-10 00:47 /user/hive/warehouse/tb_casos_confirmados/part-00107-223d388a-c652-46c4-8f9f-6c5e3cca5cae-c000.snappy.parquet\n",
      "-rw-r--r--   2 root supergroup       1737 2021-11-10 00:47 /user/hive/warehouse/tb_casos_confirmados/part-00108-223d388a-c652-46c4-8f9f-6c5e3cca5cae-c000.snappy.parquet\n",
      "-rw-r--r--   2 root supergroup       1742 2021-11-10 00:47 /user/hive/warehouse/tb_casos_confirmados/part-00109-223d388a-c652-46c4-8f9f-6c5e3cca5cae-c000.snappy.parquet\n",
      "-rw-r--r--   2 root supergroup       1855 2021-11-10 00:47 /user/hive/warehouse/tb_casos_confirmados/part-00110-223d388a-c652-46c4-8f9f-6c5e3cca5cae-c000.snappy.parquet\n",
      "-rw-r--r--   2 root supergroup       1743 2021-11-10 00:47 /user/hive/warehouse/tb_casos_confirmados/part-00111-223d388a-c652-46c4-8f9f-6c5e3cca5cae-c000.snappy.parquet\n",
      "-rw-r--r--   2 root supergroup       1864 2021-11-10 00:47 /user/hive/warehouse/tb_casos_confirmados/part-00112-223d388a-c652-46c4-8f9f-6c5e3cca5cae-c000.snappy.parquet\n",
      "-rw-r--r--   2 root supergroup       1741 2021-11-10 00:47 /user/hive/warehouse/tb_casos_confirmados/part-00113-223d388a-c652-46c4-8f9f-6c5e3cca5cae-c000.snappy.parquet\n",
      "-rw-r--r--   2 root supergroup       1861 2021-11-10 00:47 /user/hive/warehouse/tb_casos_confirmados/part-00114-223d388a-c652-46c4-8f9f-6c5e3cca5cae-c000.snappy.parquet\n",
      "-rw-r--r--   2 root supergroup       1736 2021-11-10 00:47 /user/hive/warehouse/tb_casos_confirmados/part-00115-223d388a-c652-46c4-8f9f-6c5e3cca5cae-c000.snappy.parquet\n",
      "-rw-r--r--   2 root supergroup       1866 2021-11-10 00:47 /user/hive/warehouse/tb_casos_confirmados/part-00116-223d388a-c652-46c4-8f9f-6c5e3cca5cae-c000.snappy.parquet\n",
      "-rw-r--r--   2 root supergroup       1742 2021-11-10 00:47 /user/hive/warehouse/tb_casos_confirmados/part-00117-223d388a-c652-46c4-8f9f-6c5e3cca5cae-c000.snappy.parquet\n",
      "-rw-r--r--   2 root supergroup       1862 2021-11-10 00:47 /user/hive/warehouse/tb_casos_confirmados/part-00118-223d388a-c652-46c4-8f9f-6c5e3cca5cae-c000.snappy.parquet\n",
      "-rw-r--r--   2 root supergroup       1743 2021-11-10 00:47 /user/hive/warehouse/tb_casos_confirmados/part-00119-223d388a-c652-46c4-8f9f-6c5e3cca5cae-c000.snappy.parquet\n",
      "-rw-r--r--   2 root supergroup       1863 2021-11-10 00:47 /user/hive/warehouse/tb_casos_confirmados/part-00120-223d388a-c652-46c4-8f9f-6c5e3cca5cae-c000.snappy.parquet\n",
      "-rw-r--r--   2 root supergroup       1737 2021-11-10 00:47 /user/hive/warehouse/tb_casos_confirmados/part-00121-223d388a-c652-46c4-8f9f-6c5e3cca5cae-c000.snappy.parquet\n",
      "-rw-r--r--   2 root supergroup       1861 2021-11-10 00:47 /user/hive/warehouse/tb_casos_confirmados/part-00122-223d388a-c652-46c4-8f9f-6c5e3cca5cae-c000.snappy.parquet\n",
      "-rw-r--r--   2 root supergroup       1739 2021-11-10 00:47 /user/hive/warehouse/tb_casos_confirmados/part-00123-223d388a-c652-46c4-8f9f-6c5e3cca5cae-c000.snappy.parquet\n",
      "-rw-r--r--   2 root supergroup       1867 2021-11-10 00:47 /user/hive/warehouse/tb_casos_confirmados/part-00124-223d388a-c652-46c4-8f9f-6c5e3cca5cae-c000.snappy.parquet\n",
      "-rw-r--r--   2 root supergroup       1738 2021-11-10 00:47 /user/hive/warehouse/tb_casos_confirmados/part-00125-223d388a-c652-46c4-8f9f-6c5e3cca5cae-c000.snappy.parquet\n",
      "-rw-r--r--   2 root supergroup       1865 2021-11-10 00:47 /user/hive/warehouse/tb_casos_confirmados/part-00126-223d388a-c652-46c4-8f9f-6c5e3cca5cae-c000.snappy.parquet\n",
      "-rw-r--r--   2 root supergroup       1741 2021-11-10 00:47 /user/hive/warehouse/tb_casos_confirmados/part-00127-223d388a-c652-46c4-8f9f-6c5e3cca5cae-c000.snappy.parquet\n",
      "-rw-r--r--   2 root supergroup       1863 2021-11-10 00:47 /user/hive/warehouse/tb_casos_confirmados/part-00128-223d388a-c652-46c4-8f9f-6c5e3cca5cae-c000.snappy.parquet\n",
      "-rw-r--r--   2 root supergroup       1742 2021-11-10 00:47 /user/hive/warehouse/tb_casos_confirmados/part-00129-223d388a-c652-46c4-8f9f-6c5e3cca5cae-c000.snappy.parquet\n",
      "-rw-r--r--   2 root supergroup       1861 2021-11-10 00:47 /user/hive/warehouse/tb_casos_confirmados/part-00130-223d388a-c652-46c4-8f9f-6c5e3cca5cae-c000.snappy.parquet\n",
      "-rw-r--r--   2 root supergroup       1743 2021-11-10 00:47 /user/hive/warehouse/tb_casos_confirmados/part-00131-223d388a-c652-46c4-8f9f-6c5e3cca5cae-c000.snappy.parquet\n",
      "-rw-r--r--   2 root supergroup       1859 2021-11-10 00:47 /user/hive/warehouse/tb_casos_confirmados/part-00132-223d388a-c652-46c4-8f9f-6c5e3cca5cae-c000.snappy.parquet\n",
      "-rw-r--r--   2 root supergroup       1744 2021-11-10 00:47 /user/hive/warehouse/tb_casos_confirmados/part-00133-223d388a-c652-46c4-8f9f-6c5e3cca5cae-c000.snappy.parquet\n",
      "-rw-r--r--   2 root supergroup       1864 2021-11-10 00:47 /user/hive/warehouse/tb_casos_confirmados/part-00134-223d388a-c652-46c4-8f9f-6c5e3cca5cae-c000.snappy.parquet\n",
      "-rw-r--r--   2 root supergroup       1735 2021-11-10 00:47 /user/hive/warehouse/tb_casos_confirmados/part-00135-223d388a-c652-46c4-8f9f-6c5e3cca5cae-c000.snappy.parquet\n",
      "-rw-r--r--   2 root supergroup       1863 2021-11-10 00:47 /user/hive/warehouse/tb_casos_confirmados/part-00136-223d388a-c652-46c4-8f9f-6c5e3cca5cae-c000.snappy.parquet\n",
      "-rw-r--r--   2 root supergroup       1742 2021-11-10 00:47 /user/hive/warehouse/tb_casos_confirmados/part-00137-223d388a-c652-46c4-8f9f-6c5e3cca5cae-c000.snappy.parquet\n",
      "-rw-r--r--   2 root supergroup       1866 2021-11-10 00:47 /user/hive/warehouse/tb_casos_confirmados/part-00138-223d388a-c652-46c4-8f9f-6c5e3cca5cae-c000.snappy.parquet\n",
      "-rw-r--r--   2 root supergroup       1740 2021-11-10 00:47 /user/hive/warehouse/tb_casos_confirmados/part-00139-223d388a-c652-46c4-8f9f-6c5e3cca5cae-c000.snappy.parquet\n",
      "-rw-r--r--   2 root supergroup       1864 2021-11-10 00:47 /user/hive/warehouse/tb_casos_confirmados/part-00140-223d388a-c652-46c4-8f9f-6c5e3cca5cae-c000.snappy.parquet\n",
      "-rw-r--r--   2 root supergroup       1740 2021-11-10 00:47 /user/hive/warehouse/tb_casos_confirmados/part-00141-223d388a-c652-46c4-8f9f-6c5e3cca5cae-c000.snappy.parquet\n",
      "-rw-r--r--   2 root supergroup       1863 2021-11-10 00:47 /user/hive/warehouse/tb_casos_confirmados/part-00142-223d388a-c652-46c4-8f9f-6c5e3cca5cae-c000.snappy.parquet\n",
      "-rw-r--r--   2 root supergroup       1742 2021-11-10 00:47 /user/hive/warehouse/tb_casos_confirmados/part-00143-223d388a-c652-46c4-8f9f-6c5e3cca5cae-c000.snappy.parquet\n",
      "-rw-r--r--   2 root supergroup       1862 2021-11-10 00:47 /user/hive/warehouse/tb_casos_confirmados/part-00144-223d388a-c652-46c4-8f9f-6c5e3cca5cae-c000.snappy.parquet\n",
      "-rw-r--r--   2 root supergroup       1740 2021-11-10 00:47 /user/hive/warehouse/tb_casos_confirmados/part-00145-223d388a-c652-46c4-8f9f-6c5e3cca5cae-c000.snappy.parquet\n",
      "-rw-r--r--   2 root supergroup       1861 2021-11-10 00:47 /user/hive/warehouse/tb_casos_confirmados/part-00146-223d388a-c652-46c4-8f9f-6c5e3cca5cae-c000.snappy.parquet\n",
      "-rw-r--r--   2 root supergroup       1738 2021-11-10 00:47 /user/hive/warehouse/tb_casos_confirmados/part-00147-223d388a-c652-46c4-8f9f-6c5e3cca5cae-c000.snappy.parquet\n",
      "-rw-r--r--   2 root supergroup       1862 2021-11-10 00:47 /user/hive/warehouse/tb_casos_confirmados/part-00148-223d388a-c652-46c4-8f9f-6c5e3cca5cae-c000.snappy.parquet\n",
      "-rw-r--r--   2 root supergroup       1742 2021-11-10 00:47 /user/hive/warehouse/tb_casos_confirmados/part-00149-223d388a-c652-46c4-8f9f-6c5e3cca5cae-c000.snappy.parquet\n",
      "-rw-r--r--   2 root supergroup       1868 2021-11-10 00:47 /user/hive/warehouse/tb_casos_confirmados/part-00150-223d388a-c652-46c4-8f9f-6c5e3cca5cae-c000.snappy.parquet\n",
      "-rw-r--r--   2 root supergroup       1741 2021-11-10 00:47 /user/hive/warehouse/tb_casos_confirmados/part-00151-223d388a-c652-46c4-8f9f-6c5e3cca5cae-c000.snappy.parquet\n",
      "-rw-r--r--   2 root supergroup       1864 2021-11-10 00:47 /user/hive/warehouse/tb_casos_confirmados/part-00152-223d388a-c652-46c4-8f9f-6c5e3cca5cae-c000.snappy.parquet\n",
      "-rw-r--r--   2 root supergroup       1736 2021-11-10 00:47 /user/hive/warehouse/tb_casos_confirmados/part-00153-223d388a-c652-46c4-8f9f-6c5e3cca5cae-c000.snappy.parquet\n",
      "-rw-r--r--   2 root supergroup       1865 2021-11-10 00:47 /user/hive/warehouse/tb_casos_confirmados/part-00154-223d388a-c652-46c4-8f9f-6c5e3cca5cae-c000.snappy.parquet\n",
      "-rw-r--r--   2 root supergroup       1740 2021-11-10 00:47 /user/hive/warehouse/tb_casos_confirmados/part-00155-223d388a-c652-46c4-8f9f-6c5e3cca5cae-c000.snappy.parquet\n",
      "-rw-r--r--   2 root supergroup       1860 2021-11-10 00:47 /user/hive/warehouse/tb_casos_confirmados/part-00156-223d388a-c652-46c4-8f9f-6c5e3cca5cae-c000.snappy.parquet\n",
      "-rw-r--r--   2 root supergroup       1743 2021-11-10 00:47 /user/hive/warehouse/tb_casos_confirmados/part-00157-223d388a-c652-46c4-8f9f-6c5e3cca5cae-c000.snappy.parquet\n",
      "-rw-r--r--   2 root supergroup       1862 2021-11-10 00:47 /user/hive/warehouse/tb_casos_confirmados/part-00158-223d388a-c652-46c4-8f9f-6c5e3cca5cae-c000.snappy.parquet\n",
      "-rw-r--r--   2 root supergroup       1737 2021-11-10 00:47 /user/hive/warehouse/tb_casos_confirmados/part-00159-223d388a-c652-46c4-8f9f-6c5e3cca5cae-c000.snappy.parquet\n",
      "-rw-r--r--   2 root supergroup       1858 2021-11-10 00:47 /user/hive/warehouse/tb_casos_confirmados/part-00160-223d388a-c652-46c4-8f9f-6c5e3cca5cae-c000.snappy.parquet\n",
      "-rw-r--r--   2 root supergroup       1738 2021-11-10 00:47 /user/hive/warehouse/tb_casos_confirmados/part-00161-223d388a-c652-46c4-8f9f-6c5e3cca5cae-c000.snappy.parquet\n",
      "-rw-r--r--   2 root supergroup       1864 2021-11-10 00:47 /user/hive/warehouse/tb_casos_confirmados/part-00162-223d388a-c652-46c4-8f9f-6c5e3cca5cae-c000.snappy.parquet\n",
      "-rw-r--r--   2 root supergroup       1737 2021-11-10 00:47 /user/hive/warehouse/tb_casos_confirmados/part-00163-223d388a-c652-46c4-8f9f-6c5e3cca5cae-c000.snappy.parquet\n",
      "-rw-r--r--   2 root supergroup       1736 2021-11-10 00:47 /user/hive/warehouse/tb_casos_confirmados/part-00164-223d388a-c652-46c4-8f9f-6c5e3cca5cae-c000.snappy.parquet\n",
      "-rw-r--r--   2 root supergroup       1861 2021-11-10 00:47 /user/hive/warehouse/tb_casos_confirmados/part-00165-223d388a-c652-46c4-8f9f-6c5e3cca5cae-c000.snappy.parquet\n",
      "-rw-r--r--   2 root supergroup       1732 2021-11-10 00:47 /user/hive/warehouse/tb_casos_confirmados/part-00166-223d388a-c652-46c4-8f9f-6c5e3cca5cae-c000.snappy.parquet\n",
      "-rw-r--r--   2 root supergroup       1860 2021-11-10 00:47 /user/hive/warehouse/tb_casos_confirmados/part-00167-223d388a-c652-46c4-8f9f-6c5e3cca5cae-c000.snappy.parquet\n",
      "-rw-r--r--   2 root supergroup       1743 2021-11-10 00:47 /user/hive/warehouse/tb_casos_confirmados/part-00168-223d388a-c652-46c4-8f9f-6c5e3cca5cae-c000.snappy.parquet\n",
      "-rw-r--r--   2 root supergroup       1862 2021-11-10 00:47 /user/hive/warehouse/tb_casos_confirmados/part-00169-223d388a-c652-46c4-8f9f-6c5e3cca5cae-c000.snappy.parquet\n",
      "-rw-r--r--   2 root supergroup       1742 2021-11-10 00:47 /user/hive/warehouse/tb_casos_confirmados/part-00170-223d388a-c652-46c4-8f9f-6c5e3cca5cae-c000.snappy.parquet\n",
      "-rw-r--r--   2 root supergroup       1857 2021-11-10 00:47 /user/hive/warehouse/tb_casos_confirmados/part-00171-223d388a-c652-46c4-8f9f-6c5e3cca5cae-c000.snappy.parquet\n",
      "-rw-r--r--   2 root supergroup       1731 2021-11-10 00:47 /user/hive/warehouse/tb_casos_confirmados/part-00172-223d388a-c652-46c4-8f9f-6c5e3cca5cae-c000.snappy.parquet\n",
      "-rw-r--r--   2 root supergroup       1855 2021-11-10 00:47 /user/hive/warehouse/tb_casos_confirmados/part-00173-223d388a-c652-46c4-8f9f-6c5e3cca5cae-c000.snappy.parquet\n",
      "-rw-r--r--   2 root supergroup       1737 2021-11-10 00:47 /user/hive/warehouse/tb_casos_confirmados/part-00174-223d388a-c652-46c4-8f9f-6c5e3cca5cae-c000.snappy.parquet\n",
      "-rw-r--r--   2 root supergroup       1850 2021-11-10 00:47 /user/hive/warehouse/tb_casos_confirmados/part-00175-223d388a-c652-46c4-8f9f-6c5e3cca5cae-c000.snappy.parquet\n",
      "-rw-r--r--   2 root supergroup       1725 2021-11-10 00:47 /user/hive/warehouse/tb_casos_confirmados/part-00176-223d388a-c652-46c4-8f9f-6c5e3cca5cae-c000.snappy.parquet\n",
      "-rw-r--r--   2 root supergroup       1857 2021-11-10 00:47 /user/hive/warehouse/tb_casos_confirmados/part-00177-223d388a-c652-46c4-8f9f-6c5e3cca5cae-c000.snappy.parquet\n",
      "-rw-r--r--   2 root supergroup       1736 2021-11-10 00:47 /user/hive/warehouse/tb_casos_confirmados/part-00178-223d388a-c652-46c4-8f9f-6c5e3cca5cae-c000.snappy.parquet\n",
      "-rw-r--r--   2 root supergroup       1853 2021-11-10 00:47 /user/hive/warehouse/tb_casos_confirmados/part-00179-223d388a-c652-46c4-8f9f-6c5e3cca5cae-c000.snappy.parquet\n",
      "-rw-r--r--   2 root supergroup       1729 2021-11-10 00:47 /user/hive/warehouse/tb_casos_confirmados/part-00180-223d388a-c652-46c4-8f9f-6c5e3cca5cae-c000.snappy.parquet\n",
      "-rw-r--r--   2 root supergroup       1856 2021-11-10 00:47 /user/hive/warehouse/tb_casos_confirmados/part-00181-223d388a-c652-46c4-8f9f-6c5e3cca5cae-c000.snappy.parquet\n",
      "-rw-r--r--   2 root supergroup       1736 2021-11-10 00:47 /user/hive/warehouse/tb_casos_confirmados/part-00182-223d388a-c652-46c4-8f9f-6c5e3cca5cae-c000.snappy.parquet\n",
      "-rw-r--r--   2 root supergroup       1853 2021-11-10 00:47 /user/hive/warehouse/tb_casos_confirmados/part-00183-223d388a-c652-46c4-8f9f-6c5e3cca5cae-c000.snappy.parquet\n",
      "-rw-r--r--   2 root supergroup       1734 2021-11-10 00:47 /user/hive/warehouse/tb_casos_confirmados/part-00184-223d388a-c652-46c4-8f9f-6c5e3cca5cae-c000.snappy.parquet\n",
      "-rw-r--r--   2 root supergroup       1847 2021-11-10 00:47 /user/hive/warehouse/tb_casos_confirmados/part-00185-223d388a-c652-46c4-8f9f-6c5e3cca5cae-c000.snappy.parquet\n",
      "-rw-r--r--   2 root supergroup       1722 2021-11-10 00:47 /user/hive/warehouse/tb_casos_confirmados/part-00186-223d388a-c652-46c4-8f9f-6c5e3cca5cae-c000.snappy.parquet\n",
      "-rw-r--r--   2 root supergroup       1833 2021-11-10 00:47 /user/hive/warehouse/tb_casos_confirmados/part-00187-223d388a-c652-46c4-8f9f-6c5e3cca5cae-c000.snappy.parquet\n",
      "-rw-r--r--   2 root supergroup       1723 2021-11-10 00:47 /user/hive/warehouse/tb_casos_confirmados/part-00188-223d388a-c652-46c4-8f9f-6c5e3cca5cae-c000.snappy.parquet\n",
      "-rw-r--r--   2 root supergroup       1845 2021-11-10 00:47 /user/hive/warehouse/tb_casos_confirmados/part-00189-223d388a-c652-46c4-8f9f-6c5e3cca5cae-c000.snappy.parquet\n",
      "-rw-r--r--   2 root supergroup       1713 2021-11-10 00:47 /user/hive/warehouse/tb_casos_confirmados/part-00190-223d388a-c652-46c4-8f9f-6c5e3cca5cae-c000.snappy.parquet\n",
      "-rw-r--r--   2 root supergroup       1868 2021-11-10 00:47 /user/hive/warehouse/tb_casos_confirmados/part-00191-223d388a-c652-46c4-8f9f-6c5e3cca5cae-c000.snappy.parquet\n",
      "-rw-r--r--   2 root supergroup       1753 2021-11-10 00:47 /user/hive/warehouse/tb_casos_confirmados/part-00192-223d388a-c652-46c4-8f9f-6c5e3cca5cae-c000.snappy.parquet\n",
      "-rw-r--r--   2 root supergroup       1824 2021-11-10 00:47 /user/hive/warehouse/tb_casos_confirmados/part-00193-223d388a-c652-46c4-8f9f-6c5e3cca5cae-c000.snappy.parquet\n",
      "-rw-r--r--   2 root supergroup       1668 2021-11-10 00:47 /user/hive/warehouse/tb_casos_confirmados/part-00194-223d388a-c652-46c4-8f9f-6c5e3cca5cae-c000.snappy.parquet\n",
      "-rw-r--r--   2 root supergroup       1748 2021-11-10 00:47 /user/hive/warehouse/tb_casos_confirmados/part-00195-223d388a-c652-46c4-8f9f-6c5e3cca5cae-c000.snappy.parquet\n",
      "-rw-r--r--   2 root supergroup       1642 2021-11-10 00:47 /user/hive/warehouse/tb_casos_confirmados/part-00196-223d388a-c652-46c4-8f9f-6c5e3cca5cae-c000.snappy.parquet\n",
      "-rw-r--r--   2 root supergroup       1647 2021-11-10 00:47 /user/hive/warehouse/tb_casos_confirmados/part-00197-223d388a-c652-46c4-8f9f-6c5e3cca5cae-c000.snappy.parquet\n",
      "-rw-r--r--   2 root supergroup       1613 2021-11-10 00:47 /user/hive/warehouse/tb_casos_confirmados/part-00198-223d388a-c652-46c4-8f9f-6c5e3cca5cae-c000.snappy.parquet\n",
      "-rw-r--r--   2 root supergroup       1641 2021-11-10 00:47 /user/hive/warehouse/tb_casos_confirmados/part-00199-223d388a-c652-46c4-8f9f-6c5e3cca5cae-c000.snappy.parquet\n"
     ]
    }
   ],
   "source": [
    "!hdfs dfs -ls /user/hive/warehouse/tb_casos_confirmados"
   ]
  },
  {
   "cell_type": "code",
   "execution_count": 58,
   "metadata": {},
   "outputs": [],
   "source": [
    "visualizacao_kafka = visualizacao_3.select(\"regiao\",\"data\",\"Obitos_Acumulados\",\"Obitos_Novos\",\"Letalidade\",\"Mortalidade\")"
   ]
  },
  {
   "cell_type": "code",
   "execution_count": 59,
   "metadata": {},
   "outputs": [
    {
     "name": "stdout",
     "output_type": "stream",
     "text": [
      "+------------+----------+-----------------+------------+----------+-----------+\n",
      "|      regiao|      data|Obitos_Acumulados|Obitos_Novos|Letalidade|Mortalidade|\n",
      "+------------+----------+-----------------+------------+----------+-----------+\n",
      "|Centro-Oeste|2021-07-06|            98414|         302|      2.57|     301.94|\n",
      "|       Norte|2021-07-06|            87690|         138|      2.53|     237.89|\n",
      "|    Nordeste|2021-07-06|           215648|         576|      2.42|     188.93|\n",
      "|         Sul|2021-07-06|           161410|         702|      2.23|     269.23|\n",
      "|     Sudeste|2021-07-06|           490622|        1842|      3.44|     277.59|\n",
      "|      Brasil|2021-07-06|           526892|        1780|      2.79|     250.73|\n",
      "+------------+----------+-----------------+------------+----------+-----------+\n",
      "only showing top 6 rows\n",
      "\n"
     ]
    }
   ],
   "source": [
    "visualizacao_kafka.show(6)"
   ]
  },
  {
   "cell_type": "code",
   "execution_count": 66,
   "metadata": {},
   "outputs": [],
   "source": [
    "dados_kafka = visualizacao_kafka.select(\"regiao\",\"data\",\"Obitos_Acumulados\",\"Obitos_Novos\",\"Letalidade\",\"Mortalidade\") \\\n",
    "                                .withColumnRenamed(\"Obitos_Acumulados\",\"value\") \\\n",
    "                                .withColumn(\"value\",col(\"value\").cast(StringType()))"
   ]
  },
  {
   "cell_type": "code",
   "execution_count": 67,
   "metadata": {},
   "outputs": [
    {
     "name": "stdout",
     "output_type": "stream",
     "text": [
      "+------------+----------+------+------------+----------+-----------+\n",
      "|      regiao|      data| value|Obitos_Novos|Letalidade|Mortalidade|\n",
      "+------------+----------+------+------------+----------+-----------+\n",
      "|    Nordeste|2021-07-06|215648|         576|      2.42|     188.93|\n",
      "|       Norte|2021-07-06| 87690|         138|      2.53|     237.89|\n",
      "|         Sul|2021-07-06|161410|         702|      2.23|     269.23|\n",
      "|     Sudeste|2021-07-06|490622|        1842|      3.44|     277.59|\n",
      "|Centro-Oeste|2021-07-06| 98414|         302|      2.57|     301.94|\n",
      "|      Brasil|2021-07-06|526892|        1780|      2.79|     250.73|\n",
      "+------------+----------+------+------------+----------+-----------+\n",
      "only showing top 6 rows\n",
      "\n"
     ]
    }
   ],
   "source": [
    "dados_kafka.show(6)"
   ]
  },
  {
   "cell_type": "code",
   "execution_count": 68,
   "metadata": {},
   "outputs": [
    {
     "name": "stdout",
     "output_type": "stream",
     "text": [
      "root\n",
      " |-- regiao: string (nullable = true)\n",
      " |-- data: string (nullable = true)\n",
      " |-- value: string (nullable = true)\n",
      " |-- Obitos_Novos: long (nullable = true)\n",
      " |-- Letalidade: string (nullable = true)\n",
      " |-- Mortalidade: string (nullable = true)\n",
      "\n"
     ]
    }
   ],
   "source": [
    "dados_kafka.printSchema()"
   ]
  },
  {
   "cell_type": "code",
   "execution_count": 69,
   "metadata": {},
   "outputs": [],
   "source": [
    "# 6. Salvar a terceira visualização em um tópico no Kafka\n",
    "\n",
    "dados_kafka.write.format('kafka') \\\n",
    "              .option(\"kafka.bootstrap.servers\",\"kafka:9092\") \\\n",
    "              .option(\"topic\",\"topic-vis-3\") \\\n",
    "              .save()"
   ]
  },
  {
   "cell_type": "code",
   "execution_count": 74,
   "metadata": {},
   "outputs": [
    {
     "data": {
      "image/png": "[encoded data removed]",
      "text/plain": [
       "<IPython.core.display.Image object>"
      ]
     },
     "execution_count": 74,
     "metadata": {},
     "output_type": "execute_result"
    }
   ],
   "source": [
    "from IPython.display import Image\n",
    "Image(filename='kafka.png')"
   ]
  },
  {
   "cell_type": "code",
   "execution_count": 77,
   "metadata": {},
   "outputs": [],
   "source": [
    "# 7. Criar a visualização pelo Spark com os dados enviados para o HDFS\n",
    "\n",
    "visualizacao_hdfs = table.groupBy(\"regiao\")\\\n",
    "        .agg(sum(\"casosAcumulado\").alias(\"Casos\"),\\\n",
    "             sum(\"obitosAcumulado\").alias(\"Obitos\"),\\\n",
    "             sum(\"populacaoTCU2019\").alias(\"Populacao\"),\\\n",
    "            ).sort(desc(\"Casos\"))\n",
    "\n",
    "visualizacao_hdfs = visualizacao_hdfs.withColumn(\"Incidencia/100mil hab.\",format_number(100000*col('Casos')/col('Populacao'),2))\n",
    "visualizacao_hdfs = visualizacao_hdfs.withColumn(\"Mortalidade/100mil hab.\", format_number(100000*col('Obitos')/col('Populacao'),2))\n",
    "visualizacao_hdfs = visualizacao_hdfs.drop(\"Populacao\")"
   ]
  },
  {
   "cell_type": "code",
   "execution_count": 78,
   "metadata": {},
   "outputs": [
    {
     "name": "stdout",
     "output_type": "stream",
     "text": [
      "+------------+----------+--------+----------------------+-----------------------+\n",
      "|      regiao|     Casos|  Obitos|Incidencia/100mil hab.|Mortalidade/100mil hab.|\n",
      "+------------+----------+--------+----------------------+-----------------------+\n",
      "|      Brasil|3343282900|91858674|              3,181.85|                  87.42|\n",
      "|     Sudeste|2416910626|83614760|              2,834.14|                  98.05|\n",
      "|    Nordeste|1634815853|42382977|              2,968.57|                  76.96|\n",
      "|         Sul|1151576475|22680051|              3,981.00|                  78.40|\n",
      "|       Norte| 736423753|18126551|              4,140.63|                 101.92|\n",
      "|Centro-Oeste| 715162485|16114579|              4,547.45|                 102.47|\n",
      "+------------+----------+--------+----------------------+-----------------------+\n",
      "only showing top 6 rows\n",
      "\n"
     ]
    }
   ],
   "source": [
    "visualizacao_hdfs.show(6)"
   ]
  },
  {
   "cell_type": "code",
   "execution_count": 79,
   "metadata": {},
   "outputs": [],
   "source": [
    "# 8. Salvar a visualização do exercício 6 em um tópico no Elastic\n",
    "\n",
    "topic_elastic = dados_kafka"
   ]
  },
  {
   "cell_type": "code",
   "execution_count": 80,
   "metadata": {},
   "outputs": [
    {
     "name": "stdout",
     "output_type": "stream",
     "text": [
      "+------------+----------+------+------------+----------+-----------+\n",
      "|      regiao|      data| value|Obitos_Novos|Letalidade|Mortalidade|\n",
      "+------------+----------+------+------------+----------+-----------+\n",
      "|       Norte|2021-07-06| 87690|         138|      2.53|     237.89|\n",
      "|    Nordeste|2021-07-06|215648|         576|      2.42|     188.93|\n",
      "|Centro-Oeste|2021-07-06| 98414|         302|      2.57|     301.94|\n",
      "|     Sudeste|2021-07-06|490622|        1842|      3.44|     277.59|\n",
      "|         Sul|2021-07-06|161410|         702|      2.23|     269.23|\n",
      "+------------+----------+------+------------+----------+-----------+\n",
      "only showing top 5 rows\n",
      "\n"
     ]
    }
   ],
   "source": [
    "topic_elastic.show(5)"
   ]
  },
  {
   "cell_type": "code",
   "execution_count": 81,
   "metadata": {},
   "outputs": [],
   "source": [
    "topic_elastic.write.csv(\"/user/hive/warehouse/topic-vis-3\")"
   ]
  },
  {
   "cell_type": "code",
   "execution_count": 82,
   "metadata": {},
   "outputs": [
    {
     "name": "stdout",
     "output_type": "stream",
     "text": [
      "Found 201 items\r\n",
      "-rw-r--r--   2 root supergroup          0 2021-11-10 01:34 /user/hive/warehouse/topic-vis-3/_SUCCESS\r\n",
      "-rw-r--r--   2 root supergroup        748 2021-11-10 01:34 /user/hive/warehouse/topic-vis-3/part-00000-6b31e412-319b-4cad-b4c2-cb638b329da1-c000.csv\r\n",
      "-rw-r--r--   2 root supergroup        502 2021-11-10 01:34 /user/hive/warehouse/topic-vis-3/part-00001-6b31e412-319b-4cad-b4c2-cb638b329da1-c000.csv\r\n",
      "-rw-r--r--   2 root supergroup        753 2021-11-10 01:34 /user/hive/warehouse/topic-vis-3/part-00002-6b31e412-319b-4cad-b4c2-cb638b329da1-c000.csv\r\n",
      "-rw-r--r--   2 root supergroup        497 2021-11-10 01:34 /user/hive/warehouse/topic-vis-3/part-00003-6b31e412-319b-4cad-b4c2-cb638b329da1-c000.csv\r\n",
      "-rw-r--r--   2 root supergroup        753 2021-11-10 01:34 /user/hive/warehouse/topic-vis-3/part-00004-6b31e412-319b-4cad-b4c2-cb638b329da1-c000.csv\r\n",
      "-rw-r--r--   2 root supergroup        502 2021-11-10 01:34 /user/hive/warehouse/topic-vis-3/part-00005-6b31e412-319b-4cad-b4c2-cb638b329da1-c000.csv\r\n",
      "-rw-r--r--   2 root supergroup        750 2021-11-10 01:34 /user/hive/warehouse/topic-vis-3/part-00006-6b31e412-319b-4cad-b4c2-cb638b329da1-c000.csv\r\n",
      "-rw-r--r--   2 root supergroup        504 2021-11-10 01:34 /user/hive/warehouse/topic-vis-3/part-00007-6b31e412-319b-4cad-b4c2-cb638b329da1-c000.csv\r\n",
      "-rw-r--r--   2 root supergroup        753 2021-11-10 01:34 /user/hive/warehouse/topic-vis-3/part-00008-6b31e412-319b-4cad-b4c2-cb638b329da1-c000.csv\r\n",
      "-rw-r--r--   2 root supergroup        501 2021-11-10 01:34 /user/hive/warehouse/topic-vis-3/part-00009-6b31e412-319b-4cad-b4c2-cb638b329da1-c000.csv\r\n",
      "-rw-r--r--   2 root supergroup        754 2021-11-10 01:34 /user/hive/warehouse/topic-vis-3/part-00010-6b31e412-319b-4cad-b4c2-cb638b329da1-c000.csv\r\n",
      "-rw-r--r--   2 root supergroup        501 2021-11-10 01:34 /user/hive/warehouse/topic-vis-3/part-00011-6b31e412-319b-4cad-b4c2-cb638b329da1-c000.csv\r\n",
      "-rw-r--r--   2 root supergroup        750 2021-11-10 01:34 /user/hive/warehouse/topic-vis-3/part-00012-6b31e412-319b-4cad-b4c2-cb638b329da1-c000.csv\r\n",
      "-rw-r--r--   2 root supergroup        502 2021-11-10 01:34 /user/hive/warehouse/topic-vis-3/part-00013-6b31e412-319b-4cad-b4c2-cb638b329da1-c000.csv\r\n",
      "-rw-r--r--   2 root supergroup        749 2021-11-10 01:34 /user/hive/warehouse/topic-vis-3/part-00014-6b31e412-319b-4cad-b4c2-cb638b329da1-c000.csv\r\n",
      "-rw-r--r--   2 root supergroup        502 2021-11-10 01:34 /user/hive/warehouse/topic-vis-3/part-00015-6b31e412-319b-4cad-b4c2-cb638b329da1-c000.csv\r\n",
      "-rw-r--r--   2 root supergroup        753 2021-11-10 01:34 /user/hive/warehouse/topic-vis-3/part-00016-6b31e412-319b-4cad-b4c2-cb638b329da1-c000.csv\r\n",
      "-rw-r--r--   2 root supergroup        497 2021-11-10 01:34 /user/hive/warehouse/topic-vis-3/part-00017-6b31e412-319b-4cad-b4c2-cb638b329da1-c000.csv\r\n",
      "-rw-r--r--   2 root supergroup        753 2021-11-10 01:34 /user/hive/warehouse/topic-vis-3/part-00018-6b31e412-319b-4cad-b4c2-cb638b329da1-c000.csv\r\n",
      "-rw-r--r--   2 root supergroup        503 2021-11-10 01:34 /user/hive/warehouse/topic-vis-3/part-00019-6b31e412-319b-4cad-b4c2-cb638b329da1-c000.csv\r\n",
      "-rw-r--r--   2 root supergroup        751 2021-11-10 01:34 /user/hive/warehouse/topic-vis-3/part-00020-6b31e412-319b-4cad-b4c2-cb638b329da1-c000.csv\r\n",
      "-rw-r--r--   2 root supergroup        503 2021-11-10 01:34 /user/hive/warehouse/topic-vis-3/part-00021-6b31e412-319b-4cad-b4c2-cb638b329da1-c000.csv\r\n",
      "-rw-r--r--   2 root supergroup        752 2021-11-10 01:34 /user/hive/warehouse/topic-vis-3/part-00022-6b31e412-319b-4cad-b4c2-cb638b329da1-c000.csv\r\n",
      "-rw-r--r--   2 root supergroup        501 2021-11-10 01:34 /user/hive/warehouse/topic-vis-3/part-00023-6b31e412-319b-4cad-b4c2-cb638b329da1-c000.csv\r\n",
      "-rw-r--r--   2 root supergroup        753 2021-11-10 01:34 /user/hive/warehouse/topic-vis-3/part-00024-6b31e412-319b-4cad-b4c2-cb638b329da1-c000.csv\r\n",
      "-rw-r--r--   2 root supergroup        502 2021-11-10 01:34 /user/hive/warehouse/topic-vis-3/part-00025-6b31e412-319b-4cad-b4c2-cb638b329da1-c000.csv\r\n",
      "-rw-r--r--   2 root supergroup        754 2021-11-10 01:34 /user/hive/warehouse/topic-vis-3/part-00026-6b31e412-319b-4cad-b4c2-cb638b329da1-c000.csv\r\n",
      "-rw-r--r--   2 root supergroup        504 2021-11-10 01:34 /user/hive/warehouse/topic-vis-3/part-00027-6b31e412-319b-4cad-b4c2-cb638b329da1-c000.csv\r\n",
      "-rw-r--r--   2 root supergroup        753 2021-11-10 01:34 /user/hive/warehouse/topic-vis-3/part-00028-6b31e412-319b-4cad-b4c2-cb638b329da1-c000.csv\r\n",
      "-rw-r--r--   2 root supergroup        506 2021-11-10 01:34 /user/hive/warehouse/topic-vis-3/part-00029-6b31e412-319b-4cad-b4c2-cb638b329da1-c000.csv\r\n",
      "-rw-r--r--   2 root supergroup        755 2021-11-10 01:34 /user/hive/warehouse/topic-vis-3/part-00030-6b31e412-319b-4cad-b4c2-cb638b329da1-c000.csv\r\n",
      "-rw-r--r--   2 root supergroup        501 2021-11-10 01:34 /user/hive/warehouse/topic-vis-3/part-00031-6b31e412-319b-4cad-b4c2-cb638b329da1-c000.csv\r\n",
      "-rw-r--r--   2 root supergroup        755 2021-11-10 01:34 /user/hive/warehouse/topic-vis-3/part-00032-6b31e412-319b-4cad-b4c2-cb638b329da1-c000.csv\r\n",
      "-rw-r--r--   2 root supergroup        504 2021-11-10 01:34 /user/hive/warehouse/topic-vis-3/part-00033-6b31e412-319b-4cad-b4c2-cb638b329da1-c000.csv\r\n",
      "-rw-r--r--   2 root supergroup        753 2021-11-10 01:34 /user/hive/warehouse/topic-vis-3/part-00034-6b31e412-319b-4cad-b4c2-cb638b329da1-c000.csv\r\n",
      "-rw-r--r--   2 root supergroup        506 2021-11-10 01:34 /user/hive/warehouse/topic-vis-3/part-00035-6b31e412-319b-4cad-b4c2-cb638b329da1-c000.csv\r\n",
      "-rw-r--r--   2 root supergroup        755 2021-11-10 01:34 /user/hive/warehouse/topic-vis-3/part-00036-6b31e412-319b-4cad-b4c2-cb638b329da1-c000.csv\r\n",
      "-rw-r--r--   2 root supergroup        499 2021-11-10 01:34 /user/hive/warehouse/topic-vis-3/part-00037-6b31e412-319b-4cad-b4c2-cb638b329da1-c000.csv\r\n",
      "-rw-r--r--   2 root supergroup        755 2021-11-10 01:34 /user/hive/warehouse/topic-vis-3/part-00038-6b31e412-319b-4cad-b4c2-cb638b329da1-c000.csv\r\n",
      "-rw-r--r--   2 root supergroup        501 2021-11-10 01:34 /user/hive/warehouse/topic-vis-3/part-00039-6b31e412-319b-4cad-b4c2-cb638b329da1-c000.csv\r\n",
      "-rw-r--r--   2 root supergroup        753 2021-11-10 01:34 /user/hive/warehouse/topic-vis-3/part-00040-6b31e412-319b-4cad-b4c2-cb638b329da1-c000.csv\r\n",
      "-rw-r--r--   2 root supergroup        503 2021-11-10 01:34 /user/hive/warehouse/topic-vis-3/part-00041-6b31e412-319b-4cad-b4c2-cb638b329da1-c000.csv\r\n",
      "-rw-r--r--   2 root supergroup        751 2021-11-10 01:34 /user/hive/warehouse/topic-vis-3/part-00042-6b31e412-319b-4cad-b4c2-cb638b329da1-c000.csv\r\n",
      "-rw-r--r--   2 root supergroup        503 2021-11-10 01:34 /user/hive/warehouse/topic-vis-3/part-00043-6b31e412-319b-4cad-b4c2-cb638b329da1-c000.csv\r\n",
      "-rw-r--r--   2 root supergroup        754 2021-11-10 01:34 /user/hive/warehouse/topic-vis-3/part-00044-6b31e412-319b-4cad-b4c2-cb638b329da1-c000.csv\r\n",
      "-rw-r--r--   2 root supergroup        498 2021-11-10 01:34 /user/hive/warehouse/topic-vis-3/part-00045-6b31e412-319b-4cad-b4c2-cb638b329da1-c000.csv\r\n",
      "-rw-r--r--   2 root supergroup        751 2021-11-10 01:34 /user/hive/warehouse/topic-vis-3/part-00046-6b31e412-319b-4cad-b4c2-cb638b329da1-c000.csv\r\n",
      "-rw-r--r--   2 root supergroup        502 2021-11-10 01:34 /user/hive/warehouse/topic-vis-3/part-00047-6b31e412-319b-4cad-b4c2-cb638b329da1-c000.csv\r\n",
      "-rw-r--r--   2 root supergroup        747 2021-11-10 01:34 /user/hive/warehouse/topic-vis-3/part-00048-6b31e412-319b-4cad-b4c2-cb638b329da1-c000.csv\r\n",
      "-rw-r--r--   2 root supergroup        500 2021-11-10 01:34 /user/hive/warehouse/topic-vis-3/part-00049-6b31e412-319b-4cad-b4c2-cb638b329da1-c000.csv\r\n",
      "-rw-r--r--   2 root supergroup        746 2021-11-10 01:34 /user/hive/warehouse/topic-vis-3/part-00050-6b31e412-319b-4cad-b4c2-cb638b329da1-c000.csv\r\n",
      "-rw-r--r--   2 root supergroup        496 2021-11-10 01:34 /user/hive/warehouse/topic-vis-3/part-00051-6b31e412-319b-4cad-b4c2-cb638b329da1-c000.csv\r\n",
      "-rw-r--r--   2 root supergroup        747 2021-11-10 01:34 /user/hive/warehouse/topic-vis-3/part-00052-6b31e412-319b-4cad-b4c2-cb638b329da1-c000.csv\r\n",
      "-rw-r--r--   2 root supergroup        495 2021-11-10 01:34 /user/hive/warehouse/topic-vis-3/part-00053-6b31e412-319b-4cad-b4c2-cb638b329da1-c000.csv\r\n",
      "-rw-r--r--   2 root supergroup        493 2021-11-10 01:34 /user/hive/warehouse/topic-vis-3/part-00054-6b31e412-319b-4cad-b4c2-cb638b329da1-c000.csv\r\n",
      "-rw-r--r--   2 root supergroup        744 2021-11-10 01:34 /user/hive/warehouse/topic-vis-3/part-00055-6b31e412-319b-4cad-b4c2-cb638b329da1-c000.csv\r\n",
      "-rw-r--r--   2 root supergroup        494 2021-11-10 01:34 /user/hive/warehouse/topic-vis-3/part-00056-6b31e412-319b-4cad-b4c2-cb638b329da1-c000.csv\r\n",
      "-rw-r--r--   2 root supergroup        740 2021-11-10 01:34 /user/hive/warehouse/topic-vis-3/part-00057-6b31e412-319b-4cad-b4c2-cb638b329da1-c000.csv\r\n",
      "-rw-r--r--   2 root supergroup        496 2021-11-10 01:34 /user/hive/warehouse/topic-vis-3/part-00058-6b31e412-319b-4cad-b4c2-cb638b329da1-c000.csv\r\n",
      "-rw-r--r--   2 root supergroup        738 2021-11-10 01:34 /user/hive/warehouse/topic-vis-3/part-00059-6b31e412-319b-4cad-b4c2-cb638b329da1-c000.csv\r\n",
      "-rw-r--r--   2 root supergroup        494 2021-11-10 01:34 /user/hive/warehouse/topic-vis-3/part-00060-6b31e412-319b-4cad-b4c2-cb638b329da1-c000.csv\r\n"
     ]
    },
    {
     "name": "stdout",
     "output_type": "stream",
     "text": [
      "-rw-r--r--   2 root supergroup        744 2021-11-10 01:34 /user/hive/warehouse/topic-vis-3/part-00061-6b31e412-319b-4cad-b4c2-cb638b329da1-c000.csv\r\n",
      "-rw-r--r--   2 root supergroup        489 2021-11-10 01:34 /user/hive/warehouse/topic-vis-3/part-00062-6b31e412-319b-4cad-b4c2-cb638b329da1-c000.csv\r\n",
      "-rw-r--r--   2 root supergroup        744 2021-11-10 01:34 /user/hive/warehouse/topic-vis-3/part-00063-6b31e412-319b-4cad-b4c2-cb638b329da1-c000.csv\r\n",
      "-rw-r--r--   2 root supergroup        495 2021-11-10 01:34 /user/hive/warehouse/topic-vis-3/part-00064-6b31e412-319b-4cad-b4c2-cb638b329da1-c000.csv\r\n",
      "-rw-r--r--   2 root supergroup        739 2021-11-10 01:34 /user/hive/warehouse/topic-vis-3/part-00065-6b31e412-319b-4cad-b4c2-cb638b329da1-c000.csv\r\n",
      "-rw-r--r--   2 root supergroup        496 2021-11-10 01:34 /user/hive/warehouse/topic-vis-3/part-00066-6b31e412-319b-4cad-b4c2-cb638b329da1-c000.csv\r\n",
      "-rw-r--r--   2 root supergroup        738 2021-11-10 01:34 /user/hive/warehouse/topic-vis-3/part-00067-6b31e412-319b-4cad-b4c2-cb638b329da1-c000.csv\r\n",
      "-rw-r--r--   2 root supergroup        489 2021-11-10 01:34 /user/hive/warehouse/topic-vis-3/part-00068-6b31e412-319b-4cad-b4c2-cb638b329da1-c000.csv\r\n",
      "-rw-r--r--   2 root supergroup        738 2021-11-10 01:34 /user/hive/warehouse/topic-vis-3/part-00069-6b31e412-319b-4cad-b4c2-cb638b329da1-c000.csv\r\n",
      "-rw-r--r--   2 root supergroup        490 2021-11-10 01:34 /user/hive/warehouse/topic-vis-3/part-00070-6b31e412-319b-4cad-b4c2-cb638b329da1-c000.csv\r\n",
      "-rw-r--r--   2 root supergroup        733 2021-11-10 01:34 /user/hive/warehouse/topic-vis-3/part-00071-6b31e412-319b-4cad-b4c2-cb638b329da1-c000.csv\r\n",
      "-rw-r--r--   2 root supergroup        492 2021-11-10 01:34 /user/hive/warehouse/topic-vis-3/part-00072-6b31e412-319b-4cad-b4c2-cb638b329da1-c000.csv\r\n",
      "-rw-r--r--   2 root supergroup        729 2021-11-10 01:34 /user/hive/warehouse/topic-vis-3/part-00073-6b31e412-319b-4cad-b4c2-cb638b329da1-c000.csv\r\n",
      "-rw-r--r--   2 root supergroup        481 2021-11-10 01:34 /user/hive/warehouse/topic-vis-3/part-00074-6b31e412-319b-4cad-b4c2-cb638b329da1-c000.csv\r\n",
      "-rw-r--r--   2 root supergroup        734 2021-11-10 01:34 /user/hive/warehouse/topic-vis-3/part-00075-6b31e412-319b-4cad-b4c2-cb638b329da1-c000.csv\r\n",
      "-rw-r--r--   2 root supergroup        481 2021-11-10 01:34 /user/hive/warehouse/topic-vis-3/part-00076-6b31e412-319b-4cad-b4c2-cb638b329da1-c000.csv\r\n",
      "-rw-r--r--   2 root supergroup        723 2021-11-10 01:34 /user/hive/warehouse/topic-vis-3/part-00077-6b31e412-319b-4cad-b4c2-cb638b329da1-c000.csv\r\n",
      "-rw-r--r--   2 root supergroup        483 2021-11-10 01:34 /user/hive/warehouse/topic-vis-3/part-00078-6b31e412-319b-4cad-b4c2-cb638b329da1-c000.csv\r\n",
      "-rw-r--r--   2 root supergroup        721 2021-11-10 01:34 /user/hive/warehouse/topic-vis-3/part-00079-6b31e412-319b-4cad-b4c2-cb638b329da1-c000.csv\r\n",
      "-rw-r--r--   2 root supergroup        485 2021-11-10 01:34 /user/hive/warehouse/topic-vis-3/part-00080-6b31e412-319b-4cad-b4c2-cb638b329da1-c000.csv\r\n",
      "-rw-r--r--   2 root supergroup        722 2021-11-10 01:34 /user/hive/warehouse/topic-vis-3/part-00081-6b31e412-319b-4cad-b4c2-cb638b329da1-c000.csv\r\n",
      "-rw-r--r--   2 root supergroup        479 2021-11-10 01:34 /user/hive/warehouse/topic-vis-3/part-00082-6b31e412-319b-4cad-b4c2-cb638b329da1-c000.csv\r\n",
      "-rw-r--r--   2 root supergroup        722 2021-11-10 01:34 /user/hive/warehouse/topic-vis-3/part-00083-6b31e412-319b-4cad-b4c2-cb638b329da1-c000.csv\r\n",
      "-rw-r--r--   2 root supergroup        481 2021-11-10 01:34 /user/hive/warehouse/topic-vis-3/part-00084-6b31e412-319b-4cad-b4c2-cb638b329da1-c000.csv\r\n",
      "-rw-r--r--   2 root supergroup        721 2021-11-10 01:34 /user/hive/warehouse/topic-vis-3/part-00085-6b31e412-319b-4cad-b4c2-cb638b329da1-c000.csv\r\n",
      "-rw-r--r--   2 root supergroup        480 2021-11-10 01:34 /user/hive/warehouse/topic-vis-3/part-00086-6b31e412-319b-4cad-b4c2-cb638b329da1-c000.csv\r\n",
      "-rw-r--r--   2 root supergroup        717 2021-11-10 01:34 /user/hive/warehouse/topic-vis-3/part-00087-6b31e412-319b-4cad-b4c2-cb638b329da1-c000.csv\r\n",
      "-rw-r--r--   2 root supergroup        479 2021-11-10 01:34 /user/hive/warehouse/topic-vis-3/part-00088-6b31e412-319b-4cad-b4c2-cb638b329da1-c000.csv\r\n",
      "-rw-r--r--   2 root supergroup        718 2021-11-10 01:34 /user/hive/warehouse/topic-vis-3/part-00089-6b31e412-319b-4cad-b4c2-cb638b329da1-c000.csv\r\n",
      "-rw-r--r--   2 root supergroup        476 2021-11-10 01:34 /user/hive/warehouse/topic-vis-3/part-00090-6b31e412-319b-4cad-b4c2-cb638b329da1-c000.csv\r\n",
      "-rw-r--r--   2 root supergroup        719 2021-11-10 01:34 /user/hive/warehouse/topic-vis-3/part-00091-6b31e412-319b-4cad-b4c2-cb638b329da1-c000.csv\r\n",
      "-rw-r--r--   2 root supergroup        480 2021-11-10 01:34 /user/hive/warehouse/topic-vis-3/part-00092-6b31e412-319b-4cad-b4c2-cb638b329da1-c000.csv\r\n",
      "-rw-r--r--   2 root supergroup        716 2021-11-10 01:34 /user/hive/warehouse/topic-vis-3/part-00093-6b31e412-319b-4cad-b4c2-cb638b329da1-c000.csv\r\n",
      "-rw-r--r--   2 root supergroup        479 2021-11-10 01:34 /user/hive/warehouse/topic-vis-3/part-00094-6b31e412-319b-4cad-b4c2-cb638b329da1-c000.csv\r\n",
      "-rw-r--r--   2 root supergroup        715 2021-11-10 01:34 /user/hive/warehouse/topic-vis-3/part-00095-6b31e412-319b-4cad-b4c2-cb638b329da1-c000.csv\r\n",
      "-rw-r--r--   2 root supergroup        476 2021-11-10 01:34 /user/hive/warehouse/topic-vis-3/part-00096-6b31e412-319b-4cad-b4c2-cb638b329da1-c000.csv\r\n",
      "-rw-r--r--   2 root supergroup        719 2021-11-10 01:34 /user/hive/warehouse/topic-vis-3/part-00097-6b31e412-319b-4cad-b4c2-cb638b329da1-c000.csv\r\n",
      "-rw-r--r--   2 root supergroup        476 2021-11-10 01:34 /user/hive/warehouse/topic-vis-3/part-00098-6b31e412-319b-4cad-b4c2-cb638b329da1-c000.csv\r\n",
      "-rw-r--r--   2 root supergroup        716 2021-11-10 01:34 /user/hive/warehouse/topic-vis-3/part-00099-6b31e412-319b-4cad-b4c2-cb638b329da1-c000.csv\r\n",
      "-rw-r--r--   2 root supergroup        479 2021-11-10 01:34 /user/hive/warehouse/topic-vis-3/part-00100-6b31e412-319b-4cad-b4c2-cb638b329da1-c000.csv\r\n",
      "-rw-r--r--   2 root supergroup        716 2021-11-10 01:34 /user/hive/warehouse/topic-vis-3/part-00101-6b31e412-319b-4cad-b4c2-cb638b329da1-c000.csv\r\n",
      "-rw-r--r--   2 root supergroup        479 2021-11-10 01:34 /user/hive/warehouse/topic-vis-3/part-00102-6b31e412-319b-4cad-b4c2-cb638b329da1-c000.csv\r\n",
      "-rw-r--r--   2 root supergroup        719 2021-11-10 01:34 /user/hive/warehouse/topic-vis-3/part-00103-6b31e412-319b-4cad-b4c2-cb638b329da1-c000.csv\r\n",
      "-rw-r--r--   2 root supergroup        477 2021-11-10 01:34 /user/hive/warehouse/topic-vis-3/part-00104-6b31e412-319b-4cad-b4c2-cb638b329da1-c000.csv\r\n",
      "-rw-r--r--   2 root supergroup        719 2021-11-10 01:34 /user/hive/warehouse/topic-vis-3/part-00105-6b31e412-319b-4cad-b4c2-cb638b329da1-c000.csv\r\n",
      "-rw-r--r--   2 root supergroup        479 2021-11-10 01:34 /user/hive/warehouse/topic-vis-3/part-00106-6b31e412-319b-4cad-b4c2-cb638b329da1-c000.csv\r\n",
      "-rw-r--r--   2 root supergroup        715 2021-11-10 01:34 /user/hive/warehouse/topic-vis-3/part-00107-6b31e412-319b-4cad-b4c2-cb638b329da1-c000.csv\r\n",
      "-rw-r--r--   2 root supergroup        480 2021-11-10 01:34 /user/hive/warehouse/topic-vis-3/part-00108-6b31e412-319b-4cad-b4c2-cb638b329da1-c000.csv\r\n",
      "-rw-r--r--   2 root supergroup        480 2021-11-10 01:34 /user/hive/warehouse/topic-vis-3/part-00109-6b31e412-319b-4cad-b4c2-cb638b329da1-c000.csv\r\n",
      "-rw-r--r--   2 root supergroup        718 2021-11-10 01:34 /user/hive/warehouse/topic-vis-3/part-00110-6b31e412-319b-4cad-b4c2-cb638b329da1-c000.csv\r\n",
      "-rw-r--r--   2 root supergroup        480 2021-11-10 01:34 /user/hive/warehouse/topic-vis-3/part-00111-6b31e412-319b-4cad-b4c2-cb638b329da1-c000.csv\r\n",
      "-rw-r--r--   2 root supergroup        722 2021-11-10 01:34 /user/hive/warehouse/topic-vis-3/part-00112-6b31e412-319b-4cad-b4c2-cb638b329da1-c000.csv\r\n",
      "-rw-r--r--   2 root supergroup        479 2021-11-10 01:34 /user/hive/warehouse/topic-vis-3/part-00113-6b31e412-319b-4cad-b4c2-cb638b329da1-c000.csv\r\n",
      "-rw-r--r--   2 root supergroup        723 2021-11-10 01:34 /user/hive/warehouse/topic-vis-3/part-00114-6b31e412-319b-4cad-b4c2-cb638b329da1-c000.csv\r\n",
      "-rw-r--r--   2 root supergroup        480 2021-11-10 01:34 /user/hive/warehouse/topic-vis-3/part-00115-6b31e412-319b-4cad-b4c2-cb638b329da1-c000.csv\r\n",
      "-rw-r--r--   2 root supergroup        720 2021-11-10 01:34 /user/hive/warehouse/topic-vis-3/part-00116-6b31e412-319b-4cad-b4c2-cb638b329da1-c000.csv\r\n",
      "-rw-r--r--   2 root supergroup        483 2021-11-10 01:34 /user/hive/warehouse/topic-vis-3/part-00117-6b31e412-319b-4cad-b4c2-cb638b329da1-c000.csv\r\n",
      "-rw-r--r--   2 root supergroup        724 2021-11-10 01:34 /user/hive/warehouse/topic-vis-3/part-00118-6b31e412-319b-4cad-b4c2-cb638b329da1-c000.csv\r\n",
      "-rw-r--r--   2 root supergroup        480 2021-11-10 01:34 /user/hive/warehouse/topic-vis-3/part-00119-6b31e412-319b-4cad-b4c2-cb638b329da1-c000.csv\r\n",
      "-rw-r--r--   2 root supergroup        722 2021-11-10 01:34 /user/hive/warehouse/topic-vis-3/part-00120-6b31e412-319b-4cad-b4c2-cb638b329da1-c000.csv\r\n",
      "-rw-r--r--   2 root supergroup        478 2021-11-10 01:34 /user/hive/warehouse/topic-vis-3/part-00121-6b31e412-319b-4cad-b4c2-cb638b329da1-c000.csv\r\n",
      "-rw-r--r--   2 root supergroup        721 2021-11-10 01:34 /user/hive/warehouse/topic-vis-3/part-00122-6b31e412-319b-4cad-b4c2-cb638b329da1-c000.csv\r\n",
      "-rw-r--r--   2 root supergroup        486 2021-11-10 01:34 /user/hive/warehouse/topic-vis-3/part-00123-6b31e412-319b-4cad-b4c2-cb638b329da1-c000.csv\r\n",
      "-rw-r--r--   2 root supergroup        721 2021-11-10 01:34 /user/hive/warehouse/topic-vis-3/part-00124-6b31e412-319b-4cad-b4c2-cb638b329da1-c000.csv\r\n",
      "-rw-r--r--   2 root supergroup        482 2021-11-10 01:34 /user/hive/warehouse/topic-vis-3/part-00125-6b31e412-319b-4cad-b4c2-cb638b329da1-c000.csv\r\n",
      "-rw-r--r--   2 root supergroup        726 2021-11-10 01:34 /user/hive/warehouse/topic-vis-3/part-00126-6b31e412-319b-4cad-b4c2-cb638b329da1-c000.csv\r\n",
      "-rw-r--r--   2 root supergroup        479 2021-11-10 01:34 /user/hive/warehouse/topic-vis-3/part-00127-6b31e412-319b-4cad-b4c2-cb638b329da1-c000.csv\r\n",
      "-rw-r--r--   2 root supergroup        727 2021-11-10 01:34 /user/hive/warehouse/topic-vis-3/part-00128-6b31e412-319b-4cad-b4c2-cb638b329da1-c000.csv\r\n",
      "-rw-r--r--   2 root supergroup        481 2021-11-10 01:34 /user/hive/warehouse/topic-vis-3/part-00129-6b31e412-319b-4cad-b4c2-cb638b329da1-c000.csv\r\n",
      "-rw-r--r--   2 root supergroup        720 2021-11-10 01:34 /user/hive/warehouse/topic-vis-3/part-00130-6b31e412-319b-4cad-b4c2-cb638b329da1-c000.csv\r\n",
      "-rw-r--r--   2 root supergroup        484 2021-11-10 01:34 /user/hive/warehouse/topic-vis-3/part-00131-6b31e412-319b-4cad-b4c2-cb638b329da1-c000.csv\r\n",
      "-rw-r--r--   2 root supergroup        720 2021-11-10 01:34 /user/hive/warehouse/topic-vis-3/part-00132-6b31e412-319b-4cad-b4c2-cb638b329da1-c000.csv\r\n",
      "-rw-r--r--   2 root supergroup        480 2021-11-10 01:34 /user/hive/warehouse/topic-vis-3/part-00133-6b31e412-319b-4cad-b4c2-cb638b329da1-c000.csv\r\n",
      "-rw-r--r--   2 root supergroup        722 2021-11-10 01:34 /user/hive/warehouse/topic-vis-3/part-00134-6b31e412-319b-4cad-b4c2-cb638b329da1-c000.csv\r\n",
      "-rw-r--r--   2 root supergroup        476 2021-11-10 01:34 /user/hive/warehouse/topic-vis-3/part-00135-6b31e412-319b-4cad-b4c2-cb638b329da1-c000.csv\r\n",
      "-rw-r--r--   2 root supergroup        719 2021-11-10 01:34 /user/hive/warehouse/topic-vis-3/part-00136-6b31e412-319b-4cad-b4c2-cb638b329da1-c000.csv\r\n",
      "-rw-r--r--   2 root supergroup        475 2021-11-10 01:34 /user/hive/warehouse/topic-vis-3/part-00137-6b31e412-319b-4cad-b4c2-cb638b329da1-c000.csv\r\n",
      "-rw-r--r--   2 root supergroup        712 2021-11-10 01:34 /user/hive/warehouse/topic-vis-3/part-00138-6b31e412-319b-4cad-b4c2-cb638b329da1-c000.csv\r\n",
      "-rw-r--r--   2 root supergroup        478 2021-11-10 01:34 /user/hive/warehouse/topic-vis-3/part-00139-6b31e412-319b-4cad-b4c2-cb638b329da1-c000.csv\r\n",
      "-rw-r--r--   2 root supergroup        715 2021-11-10 01:34 /user/hive/warehouse/topic-vis-3/part-00140-6b31e412-319b-4cad-b4c2-cb638b329da1-c000.csv\r\n",
      "-rw-r--r--   2 root supergroup        474 2021-11-10 01:34 /user/hive/warehouse/topic-vis-3/part-00141-6b31e412-319b-4cad-b4c2-cb638b329da1-c000.csv\r\n",
      "-rw-r--r--   2 root supergroup        715 2021-11-10 01:34 /user/hive/warehouse/topic-vis-3/part-00142-6b31e412-319b-4cad-b4c2-cb638b329da1-c000.csv\r\n",
      "-rw-r--r--   2 root supergroup        473 2021-11-10 01:34 /user/hive/warehouse/topic-vis-3/part-00143-6b31e412-319b-4cad-b4c2-cb638b329da1-c000.csv\r\n",
      "-rw-r--r--   2 root supergroup        711 2021-11-10 01:34 /user/hive/warehouse/topic-vis-3/part-00144-6b31e412-319b-4cad-b4c2-cb638b329da1-c000.csv\r\n",
      "-rw-r--r--   2 root supergroup        476 2021-11-10 01:34 /user/hive/warehouse/topic-vis-3/part-00145-6b31e412-319b-4cad-b4c2-cb638b329da1-c000.csv\r\n",
      "-rw-r--r--   2 root supergroup        709 2021-11-10 01:34 /user/hive/warehouse/topic-vis-3/part-00146-6b31e412-319b-4cad-b4c2-cb638b329da1-c000.csv\r\n",
      "-rw-r--r--   2 root supergroup        476 2021-11-10 01:34 /user/hive/warehouse/topic-vis-3/part-00147-6b31e412-319b-4cad-b4c2-cb638b329da1-c000.csv\r\n",
      "-rw-r--r--   2 root supergroup        712 2021-11-10 01:34 /user/hive/warehouse/topic-vis-3/part-00148-6b31e412-319b-4cad-b4c2-cb638b329da1-c000.csv\r\n",
      "-rw-r--r--   2 root supergroup        467 2021-11-10 01:34 /user/hive/warehouse/topic-vis-3/part-00149-6b31e412-319b-4cad-b4c2-cb638b329da1-c000.csv\r\n",
      "-rw-r--r--   2 root supergroup        707 2021-11-10 01:34 /user/hive/warehouse/topic-vis-3/part-00150-6b31e412-319b-4cad-b4c2-cb638b329da1-c000.csv\r\n",
      "-rw-r--r--   2 root supergroup        474 2021-11-10 01:34 /user/hive/warehouse/topic-vis-3/part-00151-6b31e412-319b-4cad-b4c2-cb638b329da1-c000.csv\r\n",
      "-rw-r--r--   2 root supergroup        705 2021-11-10 01:34 /user/hive/warehouse/topic-vis-3/part-00152-6b31e412-319b-4cad-b4c2-cb638b329da1-c000.csv\r\n",
      "-rw-r--r--   2 root supergroup        471 2021-11-10 01:34 /user/hive/warehouse/topic-vis-3/part-00153-6b31e412-319b-4cad-b4c2-cb638b329da1-c000.csv\r\n",
      "-rw-r--r--   2 root supergroup        706 2021-11-10 01:34 /user/hive/warehouse/topic-vis-3/part-00154-6b31e412-319b-4cad-b4c2-cb638b329da1-c000.csv\r\n",
      "-rw-r--r--   2 root supergroup        466 2021-11-10 01:34 /user/hive/warehouse/topic-vis-3/part-00155-6b31e412-319b-4cad-b4c2-cb638b329da1-c000.csv\r\n",
      "-rw-r--r--   2 root supergroup        703 2021-11-10 01:34 /user/hive/warehouse/topic-vis-3/part-00156-6b31e412-319b-4cad-b4c2-cb638b329da1-c000.csv\r\n",
      "-rw-r--r--   2 root supergroup        468 2021-11-10 01:34 /user/hive/warehouse/topic-vis-3/part-00157-6b31e412-319b-4cad-b4c2-cb638b329da1-c000.csv\r\n",
      "-rw-r--r--   2 root supergroup        698 2021-11-10 01:34 /user/hive/warehouse/topic-vis-3/part-00158-6b31e412-319b-4cad-b4c2-cb638b329da1-c000.csv\r\n",
      "-rw-r--r--   2 root supergroup        468 2021-11-10 01:34 /user/hive/warehouse/topic-vis-3/part-00159-6b31e412-319b-4cad-b4c2-cb638b329da1-c000.csv\r\n",
      "-rw-r--r--   2 root supergroup        697 2021-11-10 01:34 /user/hive/warehouse/topic-vis-3/part-00160-6b31e412-319b-4cad-b4c2-cb638b329da1-c000.csv\r\n",
      "-rw-r--r--   2 root supergroup        466 2021-11-10 01:34 /user/hive/warehouse/topic-vis-3/part-00161-6b31e412-319b-4cad-b4c2-cb638b329da1-c000.csv\r\n",
      "-rw-r--r--   2 root supergroup        698 2021-11-10 01:34 /user/hive/warehouse/topic-vis-3/part-00162-6b31e412-319b-4cad-b4c2-cb638b329da1-c000.csv\r\n",
      "-rw-r--r--   2 root supergroup        460 2021-11-10 01:34 /user/hive/warehouse/topic-vis-3/part-00163-6b31e412-319b-4cad-b4c2-cb638b329da1-c000.csv\r\n",
      "-rw-r--r--   2 root supergroup        462 2021-11-10 01:34 /user/hive/warehouse/topic-vis-3/part-00164-6b31e412-319b-4cad-b4c2-cb638b329da1-c000.csv\r\n",
      "-rw-r--r--   2 root supergroup        687 2021-11-10 01:34 /user/hive/warehouse/topic-vis-3/part-00165-6b31e412-319b-4cad-b4c2-cb638b329da1-c000.csv\r\n",
      "-rw-r--r--   2 root supergroup        451 2021-11-10 01:34 /user/hive/warehouse/topic-vis-3/part-00166-6b31e412-319b-4cad-b4c2-cb638b329da1-c000.csv\r\n",
      "-rw-r--r--   2 root supergroup        678 2021-11-10 01:34 /user/hive/warehouse/topic-vis-3/part-00167-6b31e412-319b-4cad-b4c2-cb638b329da1-c000.csv\r\n",
      "-rw-r--r--   2 root supergroup        451 2021-11-10 01:34 /user/hive/warehouse/topic-vis-3/part-00168-6b31e412-319b-4cad-b4c2-cb638b329da1-c000.csv\r\n",
      "-rw-r--r--   2 root supergroup        676 2021-11-10 01:34 /user/hive/warehouse/topic-vis-3/part-00169-6b31e412-319b-4cad-b4c2-cb638b329da1-c000.csv\r\n",
      "-rw-r--r--   2 root supergroup        445 2021-11-10 01:34 /user/hive/warehouse/topic-vis-3/part-00170-6b31e412-319b-4cad-b4c2-cb638b329da1-c000.csv\r\n",
      "-rw-r--r--   2 root supergroup        668 2021-11-10 01:34 /user/hive/warehouse/topic-vis-3/part-00171-6b31e412-319b-4cad-b4c2-cb638b329da1-c000.csv\r\n",
      "-rw-r--r--   2 root supergroup        444 2021-11-10 01:34 /user/hive/warehouse/topic-vis-3/part-00172-6b31e412-319b-4cad-b4c2-cb638b329da1-c000.csv\r\n",
      "-rw-r--r--   2 root supergroup        664 2021-11-10 01:34 /user/hive/warehouse/topic-vis-3/part-00173-6b31e412-319b-4cad-b4c2-cb638b329da1-c000.csv\r\n",
      "-rw-r--r--   2 root supergroup        442 2021-11-10 01:34 /user/hive/warehouse/topic-vis-3/part-00174-6b31e412-319b-4cad-b4c2-cb638b329da1-c000.csv\r\n",
      "-rw-r--r--   2 root supergroup        660 2021-11-10 01:34 /user/hive/warehouse/topic-vis-3/part-00175-6b31e412-319b-4cad-b4c2-cb638b329da1-c000.csv\r\n",
      "-rw-r--r--   2 root supergroup        440 2021-11-10 01:34 /user/hive/warehouse/topic-vis-3/part-00176-6b31e412-319b-4cad-b4c2-cb638b329da1-c000.csv\r\n",
      "-rw-r--r--   2 root supergroup        654 2021-11-10 01:34 /user/hive/warehouse/topic-vis-3/part-00177-6b31e412-319b-4cad-b4c2-cb638b329da1-c000.csv\r\n",
      "-rw-r--r--   2 root supergroup        439 2021-11-10 01:34 /user/hive/warehouse/topic-vis-3/part-00178-6b31e412-319b-4cad-b4c2-cb638b329da1-c000.csv\r\n",
      "-rw-r--r--   2 root supergroup        651 2021-11-10 01:34 /user/hive/warehouse/topic-vis-3/part-00179-6b31e412-319b-4cad-b4c2-cb638b329da1-c000.csv\r\n",
      "-rw-r--r--   2 root supergroup        431 2021-11-10 01:34 /user/hive/warehouse/topic-vis-3/part-00180-6b31e412-319b-4cad-b4c2-cb638b329da1-c000.csv\r\n",
      "-rw-r--r--   2 root supergroup        648 2021-11-10 01:34 /user/hive/warehouse/topic-vis-3/part-00181-6b31e412-319b-4cad-b4c2-cb638b329da1-c000.csv\r\n",
      "-rw-r--r--   2 root supergroup        427 2021-11-10 01:34 /user/hive/warehouse/topic-vis-3/part-00182-6b31e412-319b-4cad-b4c2-cb638b329da1-c000.csv\r\n",
      "-rw-r--r--   2 root supergroup        632 2021-11-10 01:34 /user/hive/warehouse/topic-vis-3/part-00183-6b31e412-319b-4cad-b4c2-cb638b329da1-c000.csv\r\n",
      "-rw-r--r--   2 root supergroup        417 2021-11-10 01:34 /user/hive/warehouse/topic-vis-3/part-00184-6b31e412-319b-4cad-b4c2-cb638b329da1-c000.csv\r\n",
      "-rw-r--r--   2 root supergroup        620 2021-11-10 01:34 /user/hive/warehouse/topic-vis-3/part-00185-6b31e412-319b-4cad-b4c2-cb638b329da1-c000.csv\r\n",
      "-rw-r--r--   2 root supergroup        412 2021-11-10 01:34 /user/hive/warehouse/topic-vis-3/part-00186-6b31e412-319b-4cad-b4c2-cb638b329da1-c000.csv\r\n",
      "-rw-r--r--   2 root supergroup        602 2021-11-10 01:34 /user/hive/warehouse/topic-vis-3/part-00187-6b31e412-319b-4cad-b4c2-cb638b329da1-c000.csv\r\n",
      "-rw-r--r--   2 root supergroup        400 2021-11-10 01:34 /user/hive/warehouse/topic-vis-3/part-00188-6b31e412-319b-4cad-b4c2-cb638b329da1-c000.csv\r\n",
      "-rw-r--r--   2 root supergroup        597 2021-11-10 01:34 /user/hive/warehouse/topic-vis-3/part-00189-6b31e412-319b-4cad-b4c2-cb638b329da1-c000.csv\r\n",
      "-rw-r--r--   2 root supergroup        394 2021-11-10 01:34 /user/hive/warehouse/topic-vis-3/part-00190-6b31e412-319b-4cad-b4c2-cb638b329da1-c000.csv\r\n",
      "-rw-r--r--   2 root supergroup        591 2021-11-10 01:34 /user/hive/warehouse/topic-vis-3/part-00191-6b31e412-319b-4cad-b4c2-cb638b329da1-c000.csv\r\n",
      "-rw-r--r--   2 root supergroup        390 2021-11-10 01:34 /user/hive/warehouse/topic-vis-3/part-00192-6b31e412-319b-4cad-b4c2-cb638b329da1-c000.csv\r\n",
      "-rw-r--r--   2 root supergroup        585 2021-11-10 01:34 /user/hive/warehouse/topic-vis-3/part-00193-6b31e412-319b-4cad-b4c2-cb638b329da1-c000.csv\r\n",
      "-rw-r--r--   2 root supergroup        386 2021-11-10 01:34 /user/hive/warehouse/topic-vis-3/part-00194-6b31e412-319b-4cad-b4c2-cb638b329da1-c000.csv\r\n",
      "-rw-r--r--   2 root supergroup        573 2021-11-10 01:34 /user/hive/warehouse/topic-vis-3/part-00195-6b31e412-319b-4cad-b4c2-cb638b329da1-c000.csv\r\n",
      "-rw-r--r--   2 root supergroup        378 2021-11-10 01:34 /user/hive/warehouse/topic-vis-3/part-00196-6b31e412-319b-4cad-b4c2-cb638b329da1-c000.csv\r\n",
      "-rw-r--r--   2 root supergroup        567 2021-11-10 01:34 /user/hive/warehouse/topic-vis-3/part-00197-6b31e412-319b-4cad-b4c2-cb638b329da1-c000.csv\r\n",
      "-rw-r--r--   2 root supergroup        378 2021-11-10 01:34 /user/hive/warehouse/topic-vis-3/part-00198-6b31e412-319b-4cad-b4c2-cb638b329da1-c000.csv\r\n",
      "-rw-r--r--   2 root supergroup        392 2021-11-10 01:34 /user/hive/warehouse/topic-vis-3/part-00199-6b31e412-319b-4cad-b4c2-cb638b329da1-c000.csv\r\n"
     ]
    }
   ],
   "source": [
    "!hdfs dfs -ls /user/hive/warehouse/topic-vis-3"
   ]
  },
  {
   "cell_type": "code",
   "execution_count": null,
   "metadata": {},
   "outputs": [],
   "source": [
    "# 9. Criar um dashboard no Elastic para visualização dos novos dados enviados\n",
    "\n",
    "# Pendência:\n",
    "# Como conectar o container jupyter-spark ao container do Elastic\n",
    "# Os dados serão enviados do hdfs para o Elastic ou o Elastic vai consumir direto do HDFS?"
   ]
  }
 ],
 "metadata": {
  "kernelspec": {
   "display_name": "PySpark",
   "language": "python",
   "name": "pyspark"
  },
  "language_info": {
   "codemirror_mode": {
    "name": "ipython",
    "version": 3
   },
   "file_extension": ".py",
   "mimetype": "text/x-python",
   "name": "python",
   "nbconvert_exporter": "python",
   "pygments_lexer": "ipython3",
   "version": "3.6.10"
  }
 },
 "nbformat": 4,
 "nbformat_minor": 2
}
