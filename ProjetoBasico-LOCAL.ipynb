{
 "cells": [
  {
   "cell_type": "markdown",
   "id": "34187184-2dd2-4ca6-a02c-2201ba441119",
   "metadata": {},
   "source": [
    "## Obtenção e Extração dos dados"
   ]
  },
  {
   "cell_type": "code",
   "execution_count": 1,
   "id": "da173217-f04d-4f98-aa98-4dc2369958bc",
   "metadata": {},
   "outputs": [
    {
     "name": "stdout",
     "output_type": "stream",
     "text": [
      "Requirement already satisfied: rarfile in /home/smoke/anaconda3/lib/python3.8/site-packages (4.0)\n"
     ]
    }
   ],
   "source": [
    "# Instalar e importar biblioteca para descompactar arquivo rar\n",
    "\n",
    "!pip install rarfile\n",
    "\n",
    "import rarfile"
   ]
  },
  {
   "cell_type": "code",
   "execution_count": 2,
   "id": "52f2cafb-3118-443c-a1f8-903beb4e23cb",
   "metadata": {},
   "outputs": [
    {
     "name": "stdout",
     "output_type": "stream",
     "text": [
      "--2021-11-09 20:46:10--  https://mobileapps.saude.gov.br/esus-vepi/files/unAFkcaNDeXajurGB7LChj8SgQYS2ptm/04bd3419b22b9cc5c6efac2c6528100d_HIST_PAINEL_COVIDBR_06jul2021.rar\n",
      "Resolvendo mobileapps.saude.gov.br (mobileapps.saude.gov.br)... 54.233.138.56, 54.232.214.14, 54.233.199.167\n",
      "Conectando-se a mobileapps.saude.gov.br (mobileapps.saude.gov.br)|54.233.138.56|:443... conectado.\n",
      "A requisição HTTP foi enviada, aguardando resposta... 200 OK\n",
      "Tamanho: 12445782 (12M) [application/x-rar-compressed]\n",
      "Salvando em: “04bd3419b22b9cc5c6efac2c6528100d_HIST_PAINEL_COVIDBR_06jul2021.rar”\n",
      "\n",
      "04bd3419b22b9cc5c6e 100%[===================>]  11.87M  1.49MB/s    em 6.9s    \n",
      "\n",
      "2021-11-09 20:46:18 (1.72 MB/s) - “04bd3419b22b9cc5c6efac2c6528100d_HIST_PAINEL_COVIDBR_06jul2021.rar” salvo [12445782/12445782]\n",
      "\n"
     ]
    }
   ],
   "source": [
    "# Baixar arquivo\n",
    "\n",
    "!wget 'https://mobileapps.saude.gov.br/esus-vepi/files/unAFkcaNDeXajurGB7LChj8SgQYS2ptm/04bd3419b22b9cc5c6efac2c6528100d_HIST_PAINEL_COVIDBR_06jul2021.rar'"
   ]
  },
  {
   "cell_type": "code",
   "execution_count": 3,
   "id": "643d1baa-a3d5-4497-aa0a-d81fa196bf78",
   "metadata": {},
   "outputs": [],
   "source": [
    "# Extrair arquivos para diretório bases\n",
    "\n",
    "r = rarfile.RarFile('04bd3419b22b9cc5c6efac2c6528100d_HIST_PAINEL_COVIDBR_06jul2021.rar')\n",
    "r.extractall('./bases')\n",
    "r.close()"
   ]
  },
  {
   "cell_type": "code",
   "execution_count": 4,
   "id": "dac96582-d679-4da9-8a3a-4b58ea3d3841",
   "metadata": {},
   "outputs": [
    {
     "name": "stdout",
     "output_type": "stream",
     "text": [
      "total 227736\n",
      "drwxrwxr-x 2 smoke smoke     4096 nov  9 20:46 .\n",
      "drwxrwxr-x 5 smoke smoke     4096 nov  9 20:46 ..\n",
      "-rwxrwxr-x 1 smoke smoke 62492959 jul  6 17:28 HIST_PAINEL_COVIDBR_2020_Parte1_06jul2021.csv\n",
      "-rwxrwxr-x 1 smoke smoke 76520681 jul  6 17:28 HIST_PAINEL_COVIDBR_2020_Parte2_06jul2021.csv\n",
      "-rwxrwxr-x 1 smoke smoke 91120916 jul  6 17:28 HIST_PAINEL_COVIDBR_2021_Parte1_06jul2021.csv\n",
      "-rwxrwxr-x 1 smoke smoke  3046774 jul  6 17:28 HIST_PAINEL_COVIDBR_2021_Parte2_06jul2021.csv\n"
     ]
    }
   ],
   "source": [
    "# Listar arquivos após serem extraídos\n",
    "\n",
    "!ls -la ./bases/"
   ]
  },
  {
   "cell_type": "code",
   "execution_count": 5,
   "id": "75d11a02-e08c-4925-90bc-5c8cbe41bae9",
   "metadata": {},
   "outputs": [],
   "source": [
    "# Copiar arquivos para container jupyter-spark\n",
    "\n",
    "!docker cp bases/ jupyter-spark:/root"
   ]
  },
  {
   "cell_type": "code",
   "execution_count": 6,
   "id": "28f2e89d-3fe9-436d-80a2-ee9b8ba02ffe",
   "metadata": {},
   "outputs": [
    {
     "name": "stdout",
     "output_type": "stream",
     "text": [
      "  % Total    % Received % Xferd  Average Speed   Time    Time     Time  Current\n",
      "                                 Dload  Upload   Total   Spent    Left  Speed\n",
      "100 2731k  100 2731k    0     0  2047k      0  0:00:01  0:00:01 --:--:-- 2047k\n"
     ]
    }
   ],
   "source": [
    "# Configurar jar do spark para aceitar o formato parquet em tabelas Hive\n",
    "\n",
    "!curl -O https://repo1.maven.org/maven2/com/twitter/parquet-hadoop-bundle/1.6.0/parquet-hadoop-bundle-1.6.0.jar\n",
    "\n",
    "!docker cp parquet-hadoop-bundle-1.6.0.jar jupyter-spark:/opt/spark/jars"
   ]
  },
  {
   "cell_type": "code",
   "execution_count": 7,
   "id": "8f428658-c724-43cf-bf1b-b4173e7a8487",
   "metadata": {},
   "outputs": [
    {
     "name": "stdout",
     "output_type": "stream",
     "text": [
      "HIST_PAINEL_COVIDBR_2020_Parte1_06jul2021.csv\n",
      "HIST_PAINEL_COVIDBR_2020_Parte2_06jul2021.csv\n",
      "HIST_PAINEL_COVIDBR_2021_Parte1_06jul2021.csv\n",
      "HIST_PAINEL_COVIDBR_2021_Parte2_06jul2021.csv\n"
     ]
    }
   ],
   "source": [
    "# Verificar arquivos copiados para o container jupyter-spark\n",
    "\n",
    "!docker exec -it jupyter-spark ls /root/bases"
   ]
  },
  {
   "cell_type": "code",
   "execution_count": 8,
   "id": "85d470e9-4bfb-45e2-9277-627f12365a53",
   "metadata": {},
   "outputs": [
    {
     "name": "stdout",
     "output_type": "stream",
     "text": [
      "Found 4 items\n",
      "-rw-r--r--   2 root supergroup   62492959 2021-11-09 23:49 /user/anderson/data/covid/bases/HIST_PAINEL_COVIDBR_2020_Parte1_06jul2021.csv\n",
      "-rw-r--r--   2 root supergroup   76520681 2021-11-09 23:49 /user/anderson/data/covid/bases/HIST_PAINEL_COVIDBR_2020_Parte2_06jul2021.csv\n",
      "-rw-r--r--   2 root supergroup   91120916 2021-11-09 23:49 /user/anderson/data/covid/bases/HIST_PAINEL_COVIDBR_2021_Parte1_06jul2021.csv\n",
      "-rw-r--r--   2 root supergroup    3046774 2021-11-09 23:49 /user/anderson/data/covid/bases/HIST_PAINEL_COVIDBR_2021_Parte2_06jul2021.csv\n"
     ]
    }
   ],
   "source": [
    "# 1. Enviar os dados para o hdfs\n",
    "\n",
    "# Criar diretório no hdfs e enviar dados\n",
    "\n",
    "!docker exec -it jupyter-spark hdfs dfs -mkdir /user/anderson/data/covid\n",
    "\n",
    "!docker exec -it jupyter-spark hdfs dfs -put /root/bases /user/anderson/data/covid\n",
    "\n",
    "!docker exec -it jupyter-spark hdfs dfs -ls /user/anderson/data/covid/bases"
   ]
  },
  {
   "cell_type": "code",
   "execution_count": null,
   "id": "22c1cf4b-877f-4402-a6a6-3bfde6e7a9e7",
   "metadata": {},
   "outputs": [],
   "source": []
  }
 ],
 "metadata": {
  "kernelspec": {
   "display_name": "Python 3",
   "language": "python",
   "name": "python3"
  },
  "language_info": {
   "codemirror_mode": {
    "name": "ipython",
    "version": 3
   },
   "file_extension": ".py",
   "mimetype": "text/x-python",
   "name": "python",
   "nbconvert_exporter": "python",
   "pygments_lexer": "ipython3",
   "version": "3.8.8"
  }
 },
 "nbformat": 4,
 "nbformat_minor": 5
}
